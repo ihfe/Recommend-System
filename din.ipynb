{
 "cells": [
  {
   "cell_type": "code",
   "execution_count": null,
   "id": "cd041dbf",
   "metadata": {},
   "outputs": [
    {
     "name": "stdout",
     "output_type": "stream",
     "text": [
      "Requirement already satisfied: deepctr in c:\\users\\asus\\anaconda3\\envs\\uk1\\lib\\site-packages (0.9.3)\n",
      "Requirement already satisfied: requests in c:\\users\\asus\\anaconda3\\envs\\uk1\\lib\\site-packages (from deepctr) (2.32.3)\n",
      "Requirement already satisfied: h5py==3.7.0 in c:\\users\\asus\\anaconda3\\envs\\uk1\\lib\\site-packages (from deepctr) (3.7.0)\n",
      "Requirement already satisfied: numpy>=1.14.5 in c:\\users\\asus\\anaconda3\\envs\\uk1\\lib\\site-packages (from h5py==3.7.0->deepctr) (1.26.4)\n",
      "Requirement already satisfied: charset-normalizer<4,>=2 in c:\\users\\asus\\anaconda3\\envs\\uk1\\lib\\site-packages (from requests->deepctr) (3.3.2)\n",
      "Requirement already satisfied: idna<4,>=2.5 in c:\\users\\asus\\anaconda3\\envs\\uk1\\lib\\site-packages (from requests->deepctr) (2.10)\n",
      "Requirement already satisfied: urllib3<3,>=1.21.1 in c:\\users\\asus\\anaconda3\\envs\\uk1\\lib\\site-packages (from requests->deepctr) (1.26.20)\n",
      "Requirement already satisfied: certifi>=2017.4.17 in c:\\users\\asus\\anaconda3\\envs\\uk1\\lib\\site-packages (from requests->deepctr) (2024.8.30)\n"
     ]
    }
   ],
   "source": [
    "!pip install deepctr tensorflow==2.10.1"
   ]
  },
  {
   "cell_type": "code",
   "execution_count": 4,
   "id": "7035c70b",
   "metadata": {},
   "outputs": [],
   "source": [
    "from sklearn.metrics import log_loss, roc_auc_score\n",
    "from sklearn.model_selection import StratifiedKFold\n",
    "from sklearn.preprocessing import LabelEncoder\n",
    "from tensorflow.keras.models import Model, load_model\n",
    "from deepctr.models import DIN\n",
    "from deepctr.feature_column import SparseFeat, VarLenSparseFeat, DenseFeat, get_feature_names\n",
    "\n",
    "from tensorflow.keras.callbacks import ModelCheckpoint, LearningRateScheduler, Callback\n",
    "from sklearn.preprocessing import OrdinalEncoder, LabelEncoder, OneHotEncoder\n",
    "from tensorflow.keras.utils import get_custom_objects\n",
    "from tensorflow.keras.optimizers import Adam,RMSprop\n",
    "from tensorflow.keras.layers import Activation\n",
    "from tensorflow.keras import backend as K\n",
    "from tensorflow.keras import callbacks\n",
    "from tensorflow.keras import utils\n",
    "import tensorflow.keras as keras\n",
    "import tensorflow as tf\n",
    "import pandas as pd\n",
    "import numpy as np\n",
    "import warnings\n",
    "# import pandas_profiling \n",
    "from sklearn.metrics import log_loss, roc_auc_score\n",
    "from sklearn.model_selection import train_test_split\n",
    "from sklearn.preprocessing import MinMaxScaler\n",
    "warnings.simplefilter('ignore')"
   ]
  },
  {
   "cell_type": "code",
   "execution_count": null,
   "id": "68ca10c0",
   "metadata": {},
   "outputs": [],
   "source": [
    "raw_sample_df = pd.read_csv('../raw_sample.csv')\n",
    "ad_feature_df = pd.read_csv('../ad_feature.csv')\n",
    "user_profile_df=pd.read_csv('../user_profile.csv')"
   ]
  },
  {
   "cell_type": "code",
   "execution_count": 6,
   "id": "2857e04e",
   "metadata": {},
   "outputs": [
    {
     "name": "stdout",
     "output_type": "stream",
     "text": [
      "raw_sample_df memory size: 1215.73 MB\n",
      "ad_feature_df memory size: 38.76 MB\n",
      "user_profile_df memory size: 72.91 MB\n"
     ]
    }
   ],
   "source": [
    "test_size_mb = raw_sample_df.memory_usage().sum() / 1024 / 1024\n",
    "test_size_mb1 = ad_feature_df.memory_usage().sum() / 1024 / 1024\n",
    "test_size_mb2 = user_profile_df.memory_usage().sum() / 1024 / 1024\n",
    "print(\"raw_sample_df memory size: %.2f MB\" % test_size_mb)\n",
    "print(\"ad_feature_df memory size: %.2f MB\" % test_size_mb1)\n",
    "print(\"user_profile_df memory size: %.2f MB\" % test_size_mb2)"
   ]
  },
  {
   "cell_type": "code",
   "execution_count": 7,
   "id": "769fa290",
   "metadata": {},
   "outputs": [],
   "source": [
    "def mem_usage(pandas_obj):\n",
    "    if isinstance(pandas_obj,pd.DataFrame):\n",
    "        usage_b = pandas_obj.memory_usage(deep=True).sum()\n",
    "    else: # we assume if not a df it's a series\n",
    "        usage_b = pandas_obj.memory_usage(deep=True)\n",
    "    usage_mb = usage_b / 1024 ** 2 # convert bytes to megabytes\n",
    "    return \"{:03.2f} MB\".format(usage_mb)"
   ]
  },
  {
   "cell_type": "code",
   "execution_count": 8,
   "id": "974ddf5e",
   "metadata": {},
   "outputs": [
    {
     "name": "stdout",
     "output_type": "stream",
     "text": [
      "<class 'pandas.core.frame.DataFrame'>\n",
      "RangeIndex: 26557961 entries, 0 to 26557960\n",
      "Data columns (total 6 columns):\n",
      " #   Column      Dtype \n",
      "---  ------      ----- \n",
      " 0   user        int64 \n",
      " 1   time_stamp  int64 \n",
      " 2   adgroup_id  int64 \n",
      " 3   pid         object\n",
      " 4   nonclk      int64 \n",
      " 5   clk         int64 \n",
      "dtypes: int64(5), object(1)\n",
      "memory usage: 2.7 GB\n"
     ]
    }
   ],
   "source": [
    "raw_sample_df.info(memory_usage='deep')"
   ]
  },
  {
   "cell_type": "code",
   "execution_count": 9,
   "id": "d6c1420f",
   "metadata": {},
   "outputs": [
    {
     "data": {
      "text/html": [
       "<div>\n",
       "<style scoped>\n",
       "    .dataframe tbody tr th:only-of-type {\n",
       "        vertical-align: middle;\n",
       "    }\n",
       "\n",
       "    .dataframe tbody tr th {\n",
       "        vertical-align: top;\n",
       "    }\n",
       "\n",
       "    .dataframe thead th {\n",
       "        text-align: right;\n",
       "    }\n",
       "</style>\n",
       "<table border=\"1\" class=\"dataframe\">\n",
       "  <thead>\n",
       "    <tr style=\"text-align: right;\">\n",
       "      <th></th>\n",
       "      <th>user</th>\n",
       "      <th>time_stamp</th>\n",
       "      <th>adgroup_id</th>\n",
       "      <th>pid</th>\n",
       "      <th>nonclk</th>\n",
       "      <th>clk</th>\n",
       "    </tr>\n",
       "  </thead>\n",
       "  <tbody>\n",
       "    <tr>\n",
       "      <th>0</th>\n",
       "      <td>581738</td>\n",
       "      <td>1494137644</td>\n",
       "      <td>1</td>\n",
       "      <td>430548_1007</td>\n",
       "      <td>1</td>\n",
       "      <td>0</td>\n",
       "    </tr>\n",
       "    <tr>\n",
       "      <th>1</th>\n",
       "      <td>449818</td>\n",
       "      <td>1494638778</td>\n",
       "      <td>3</td>\n",
       "      <td>430548_1007</td>\n",
       "      <td>1</td>\n",
       "      <td>0</td>\n",
       "    </tr>\n",
       "    <tr>\n",
       "      <th>2</th>\n",
       "      <td>914836</td>\n",
       "      <td>1494650879</td>\n",
       "      <td>4</td>\n",
       "      <td>430548_1007</td>\n",
       "      <td>1</td>\n",
       "      <td>0</td>\n",
       "    </tr>\n",
       "    <tr>\n",
       "      <th>3</th>\n",
       "      <td>914836</td>\n",
       "      <td>1494651029</td>\n",
       "      <td>5</td>\n",
       "      <td>430548_1007</td>\n",
       "      <td>1</td>\n",
       "      <td>0</td>\n",
       "    </tr>\n",
       "    <tr>\n",
       "      <th>4</th>\n",
       "      <td>399907</td>\n",
       "      <td>1494302958</td>\n",
       "      <td>8</td>\n",
       "      <td>430548_1007</td>\n",
       "      <td>1</td>\n",
       "      <td>0</td>\n",
       "    </tr>\n",
       "  </tbody>\n",
       "</table>\n",
       "</div>"
      ],
      "text/plain": [
       "     user  time_stamp  adgroup_id          pid  nonclk  clk\n",
       "0  581738  1494137644           1  430548_1007       1    0\n",
       "1  449818  1494638778           3  430548_1007       1    0\n",
       "2  914836  1494650879           4  430548_1007       1    0\n",
       "3  914836  1494651029           5  430548_1007       1    0\n",
       "4  399907  1494302958           8  430548_1007       1    0"
      ]
     },
     "execution_count": 9,
     "metadata": {},
     "output_type": "execute_result"
    }
   ],
   "source": [
    "raw_sample_df.head()# raw_sample_df.shape (26557961, 6),"
   ]
  },
  {
   "cell_type": "code",
   "execution_count": 10,
   "id": "00f5f69b",
   "metadata": {},
   "outputs": [
    {
     "data": {
      "text/plain": [
       "nonclk\n",
       "1    25191905\n",
       "0     1366056\n",
       "Name: count, dtype: int64"
      ]
     },
     "execution_count": 10,
     "metadata": {},
     "output_type": "execute_result"
    }
   ],
   "source": [
    "#查看一下有多少个用户\n",
    "# len(raw_sample_df[\"user\"].unique())\n",
    "raw_sample_df[\"nonclk\"].value_counts()"
   ]
  },
  {
   "cell_type": "code",
   "execution_count": 11,
   "id": "1a89d65d",
   "metadata": {},
   "outputs": [
    {
     "data": {
      "text/plain": [
       "clk\n",
       "0    25191905\n",
       "1     1366056\n",
       "Name: count, dtype: int64"
      ]
     },
     "execution_count": 11,
     "metadata": {},
     "output_type": "execute_result"
    }
   ],
   "source": [
    "raw_sample_df[\"clk\"].value_counts()\n"
   ]
  },
  {
   "cell_type": "code",
   "execution_count": 12,
   "id": "07908a91",
   "metadata": {},
   "outputs": [
    {
     "name": "stdout",
     "output_type": "stream",
     "text": [
      "Original Ad Feature dataframe:2735.39 MB\n",
      "Memory Optimised Ad Feature dataframe:379.92 MB\n"
     ]
    }
   ],
   "source": [
    "optimized_gl = raw_sample_df.copy()\n",
    "\n",
    "gl_int = raw_sample_df.select_dtypes(include=['int'])#gl_int是一个Dataframe,包含四列：[adgroup_id,cate_id,campaign_id,customer]\n",
    "converted_int = gl_int.apply(pd.to_numeric,downcast='unsigned')\n",
    "optimized_gl[converted_int.columns] = converted_int\n",
    "\n",
    "\n",
    "gl_obj = raw_sample_df.select_dtypes(include=['object']).copy()\n",
    "converted_obj = pd.DataFrame()\n",
    "for col in gl_obj.columns:\n",
    "    num_unique_values = len(gl_obj[col].unique())\n",
    "    num_total_values = len(gl_obj[col])\n",
    "    if num_unique_values / num_total_values < 0.5:\n",
    "        converted_obj.loc[:,col] = gl_obj[col].astype('category')\n",
    "    else:\n",
    "        converted_obj.loc[:,col] = gl_obj[col]\n",
    "optimized_gl[converted_obj.columns] = converted_obj\n",
    "print(\"Original Ad Feature dataframe:{0}\".format(mem_usage(raw_sample_df)))\n",
    "print(\"Memory Optimised Ad Feature dataframe:{0}\".format(mem_usage(optimized_gl)))"
   ]
  },
  {
   "cell_type": "code",
   "execution_count": 13,
   "id": "a4d01f5f",
   "metadata": {},
   "outputs": [],
   "source": [
    "raw_sample_df = optimized_gl.copy()\n",
    "raw_sample_df_new = raw_sample_df.rename(columns = {\"user\": \"userid\"})"
   ]
  },
  {
   "cell_type": "code",
   "execution_count": 14,
   "id": "2b4cb9c6",
   "metadata": {},
   "outputs": [
    {
     "name": "stdout",
     "output_type": "stream",
     "text": [
      "<class 'pandas.core.frame.DataFrame'>\n",
      "RangeIndex: 846811 entries, 0 to 846810\n",
      "Data columns (total 6 columns):\n",
      " #   Column       Non-Null Count   Dtype  \n",
      "---  ------       --------------   -----  \n",
      " 0   adgroup_id   846811 non-null  int64  \n",
      " 1   cate_id      846811 non-null  int64  \n",
      " 2   campaign_id  846811 non-null  int64  \n",
      " 3   customer     846811 non-null  int64  \n",
      " 4   brand        600481 non-null  float64\n",
      " 5   price        846811 non-null  float64\n",
      "dtypes: float64(2), int64(4)\n",
      "memory usage: 38.8 MB\n"
     ]
    }
   ],
   "source": [
    "ad_feature_df.info(memory_usage='deep')"
   ]
  },
  {
   "cell_type": "code",
   "execution_count": 15,
   "id": "b6b5b7e5",
   "metadata": {},
   "outputs": [
    {
     "name": "stdout",
     "output_type": "stream",
     "text": [
      "Original Ad Feature dataframe:38.76 MB\n",
      "Memory Optimised Ad Feature dataframe:21.00 MB\n"
     ]
    }
   ],
   "source": [
    "optimized_g2 = ad_feature_df.copy()\n",
    "\n",
    "g2_int = ad_feature_df.select_dtypes(include=['int'])\n",
    "converted_int = g2_int.apply(pd.to_numeric,downcast='unsigned')\n",
    "optimized_g2[converted_int.columns] = converted_int\n",
    "\n",
    "g2_float = ad_feature_df.select_dtypes(include=['float'])\n",
    "converted_float = g2_float.apply(pd.to_numeric,downcast='float')#downcast='float' 会将 float64 压缩为 float32 或更低位；\n",
    "optimized_g2[converted_float.columns] = converted_float\n",
    "\n",
    "print(\"Original Ad Feature dataframe:{0}\".format(mem_usage(ad_feature_df)))\n",
    "print(\"Memory Optimised Ad Feature dataframe:{0}\".format(mem_usage(optimized_g2)))"
   ]
  },
  {
   "cell_type": "code",
   "execution_count": 16,
   "id": "ebf2bcb4",
   "metadata": {},
   "outputs": [
    {
     "name": "stdout",
     "output_type": "stream",
     "text": [
      "<class 'pandas.core.frame.DataFrame'>\n",
      "RangeIndex: 1061768 entries, 0 to 1061767\n",
      "Data columns (total 9 columns):\n",
      " #   Column                 Non-Null Count    Dtype  \n",
      "---  ------                 --------------    -----  \n",
      " 0   userid                 1061768 non-null  int64  \n",
      " 1   cms_segid              1061768 non-null  int64  \n",
      " 2   cms_group_id           1061768 non-null  int64  \n",
      " 3   final_gender_code      1061768 non-null  int64  \n",
      " 4   age_level              1061768 non-null  int64  \n",
      " 5   pvalue_level           485851 non-null   float64\n",
      " 6   shopping_level         1061768 non-null  int64  \n",
      " 7   occupation             1061768 non-null  int64  \n",
      " 8   new_user_class_level   716848 non-null   float64\n",
      "dtypes: float64(2), int64(7)\n",
      "memory usage: 72.9 MB\n"
     ]
    }
   ],
   "source": [
    "user_profile_df.info(memory_usage='deep')"
   ]
  },
  {
   "cell_type": "code",
   "execution_count": 17,
   "id": "49a782d7",
   "metadata": {},
   "outputs": [
    {
     "name": "stdout",
     "output_type": "stream",
     "text": [
      "Original User Feature dataframe:72.91 MB\n",
      "Memory Optimised User Feature dataframe:18.23 MB\n"
     ]
    }
   ],
   "source": [
    "optimized_g3 = user_profile_df.copy()\n",
    "\n",
    "g3_int = user_profile_df.select_dtypes(include=['int'])\n",
    "converted_int = g3_int.apply(pd.to_numeric,downcast='unsigned')\n",
    "optimized_g3[converted_int.columns] = converted_int\n",
    "\n",
    "g3_float = user_profile_df.select_dtypes(include=['float'])\n",
    "converted_float = g3_float.apply(pd.to_numeric,downcast='float')\n",
    "optimized_g3[converted_float.columns] = converted_float\n",
    "\n",
    "print(\"Original User Feature dataframe:{0}\".format(mem_usage(user_profile_df)))\n",
    "print(\"Memory Optimised User Feature dataframe:{0}\".format(mem_usage(optimized_g3)))"
   ]
  },
  {
   "cell_type": "markdown",
   "id": "6c90e95c",
   "metadata": {},
   "source": [
    "##### 内存优化结束，合并结果"
   ]
  },
  {
   "cell_type": "markdown",
   "id": "c01b0475",
   "metadata": {},
   "source": [
    "- `optimized_g3`也就是 `user_profile_df`得来的\n",
    "- `optimized_g2`也就是 `ad_feature_df`得来的"
   ]
  },
  {
   "cell_type": "code",
   "execution_count": 18,
   "id": "7210da96",
   "metadata": {},
   "outputs": [
    {
     "data": {
      "text/html": [
       "<div>\n",
       "<style scoped>\n",
       "    .dataframe tbody tr th:only-of-type {\n",
       "        vertical-align: middle;\n",
       "    }\n",
       "\n",
       "    .dataframe tbody tr th {\n",
       "        vertical-align: top;\n",
       "    }\n",
       "\n",
       "    .dataframe thead th {\n",
       "        text-align: right;\n",
       "    }\n",
       "</style>\n",
       "<table border=\"1\" class=\"dataframe\">\n",
       "  <thead>\n",
       "    <tr style=\"text-align: right;\">\n",
       "      <th></th>\n",
       "      <th>adgroup_id</th>\n",
       "      <th>cate_id</th>\n",
       "      <th>campaign_id</th>\n",
       "      <th>customer</th>\n",
       "      <th>brand</th>\n",
       "      <th>price</th>\n",
       "      <th>userid</th>\n",
       "      <th>cms_segid</th>\n",
       "      <th>cms_group_id</th>\n",
       "      <th>final_gender_code</th>\n",
       "      <th>age_level</th>\n",
       "      <th>pvalue_level</th>\n",
       "      <th>shopping_level</th>\n",
       "      <th>occupation</th>\n",
       "      <th>new_user_class_level</th>\n",
       "      <th>time_stamp</th>\n",
       "      <th>pid</th>\n",
       "      <th>nonclk</th>\n",
       "      <th>clk</th>\n",
       "    </tr>\n",
       "  </thead>\n",
       "  <tbody>\n",
       "    <tr>\n",
       "      <th>0</th>\n",
       "      <td>63133</td>\n",
       "      <td>6406</td>\n",
       "      <td>83237</td>\n",
       "      <td>1</td>\n",
       "      <td>95471.0</td>\n",
       "      <td>170.0</td>\n",
       "      <td>172283</td>\n",
       "      <td>0</td>\n",
       "      <td>3</td>\n",
       "      <td>2</td>\n",
       "      <td>3</td>\n",
       "      <td>NaN</td>\n",
       "      <td>3</td>\n",
       "      <td>0</td>\n",
       "      <td>4.0</td>\n",
       "      <td>1494386115</td>\n",
       "      <td>430548_1007</td>\n",
       "      <td>1</td>\n",
       "      <td>0</td>\n",
       "    </tr>\n",
       "    <tr>\n",
       "      <th>1</th>\n",
       "      <td>63133</td>\n",
       "      <td>6406</td>\n",
       "      <td>83237</td>\n",
       "      <td>1</td>\n",
       "      <td>95471.0</td>\n",
       "      <td>170.0</td>\n",
       "      <td>172283</td>\n",
       "      <td>0</td>\n",
       "      <td>3</td>\n",
       "      <td>2</td>\n",
       "      <td>3</td>\n",
       "      <td>NaN</td>\n",
       "      <td>3</td>\n",
       "      <td>0</td>\n",
       "      <td>4.0</td>\n",
       "      <td>1494490600</td>\n",
       "      <td>430548_1007</td>\n",
       "      <td>1</td>\n",
       "      <td>0</td>\n",
       "    </tr>\n",
       "    <tr>\n",
       "      <th>2</th>\n",
       "      <td>63133</td>\n",
       "      <td>6406</td>\n",
       "      <td>83237</td>\n",
       "      <td>1</td>\n",
       "      <td>95471.0</td>\n",
       "      <td>170.0</td>\n",
       "      <td>172283</td>\n",
       "      <td>0</td>\n",
       "      <td>3</td>\n",
       "      <td>2</td>\n",
       "      <td>3</td>\n",
       "      <td>NaN</td>\n",
       "      <td>3</td>\n",
       "      <td>0</td>\n",
       "      <td>4.0</td>\n",
       "      <td>1494304390</td>\n",
       "      <td>430548_1007</td>\n",
       "      <td>1</td>\n",
       "      <td>0</td>\n",
       "    </tr>\n",
       "    <tr>\n",
       "      <th>3</th>\n",
       "      <td>63133</td>\n",
       "      <td>6406</td>\n",
       "      <td>83237</td>\n",
       "      <td>1</td>\n",
       "      <td>95471.0</td>\n",
       "      <td>170.0</td>\n",
       "      <td>658198</td>\n",
       "      <td>35</td>\n",
       "      <td>4</td>\n",
       "      <td>2</td>\n",
       "      <td>4</td>\n",
       "      <td>2.0</td>\n",
       "      <td>3</td>\n",
       "      <td>0</td>\n",
       "      <td>2.0</td>\n",
       "      <td>1494675187</td>\n",
       "      <td>430539_1007</td>\n",
       "      <td>1</td>\n",
       "      <td>0</td>\n",
       "    </tr>\n",
       "    <tr>\n",
       "      <th>4</th>\n",
       "      <td>63133</td>\n",
       "      <td>6406</td>\n",
       "      <td>83237</td>\n",
       "      <td>1</td>\n",
       "      <td>95471.0</td>\n",
       "      <td>170.0</td>\n",
       "      <td>620600</td>\n",
       "      <td>0</td>\n",
       "      <td>12</td>\n",
       "      <td>1</td>\n",
       "      <td>6</td>\n",
       "      <td>NaN</td>\n",
       "      <td>3</td>\n",
       "      <td>0</td>\n",
       "      <td>NaN</td>\n",
       "      <td>1494602154</td>\n",
       "      <td>430548_1007</td>\n",
       "      <td>1</td>\n",
       "      <td>0</td>\n",
       "    </tr>\n",
       "  </tbody>\n",
       "</table>\n",
       "</div>"
      ],
      "text/plain": [
       "   adgroup_id  cate_id  campaign_id  customer    brand  price  userid  \\\n",
       "0       63133     6406        83237         1  95471.0  170.0  172283   \n",
       "1       63133     6406        83237         1  95471.0  170.0  172283   \n",
       "2       63133     6406        83237         1  95471.0  170.0  172283   \n",
       "3       63133     6406        83237         1  95471.0  170.0  658198   \n",
       "4       63133     6406        83237         1  95471.0  170.0  620600   \n",
       "\n",
       "   cms_segid  cms_group_id  final_gender_code  age_level  pvalue_level  \\\n",
       "0          0             3                  2          3           NaN   \n",
       "1          0             3                  2          3           NaN   \n",
       "2          0             3                  2          3           NaN   \n",
       "3         35             4                  2          4           2.0   \n",
       "4          0            12                  1          6           NaN   \n",
       "\n",
       "   shopping_level  occupation  new_user_class_level   time_stamp          pid  \\\n",
       "0               3           0                    4.0  1494386115  430548_1007   \n",
       "1               3           0                    4.0  1494490600  430548_1007   \n",
       "2               3           0                    4.0  1494304390  430548_1007   \n",
       "3               3           0                    2.0  1494675187  430539_1007   \n",
       "4               3           0                    NaN  1494602154  430548_1007   \n",
       "\n",
       "   nonclk  clk  \n",
       "0       1    0  \n",
       "1       1    0  \n",
       "2       1    0  \n",
       "3       1    0  \n",
       "4       1    0  "
      ]
     },
     "execution_count": 18,
     "metadata": {},
     "output_type": "execute_result"
    }
   ],
   "source": [
    "raw_sample_df_new[\"userid\"] = raw_sample_df_new[\"userid\"].astype(np.int64).astype(np.uint32)\n",
    "optimized_g3[\"userid\"] = optimized_g3[\"userid\"].astype(np.int64).astype(np.uint32)\n",
    "\n",
    "df1 = pd.merge(optimized_g3, raw_sample_df_new, on=\"userid\")\n",
    "\n",
    "df1[\"adgroup_id\"] = df1[\"adgroup_id\"].astype(np.int64).astype(np.uint32)\n",
    "optimized_g2[\"adgroup_id\"] = optimized_g2[\"adgroup_id\"].astype(np.int64).astype(np.uint32)\n",
    "\n",
    "final_df = pd.merge(optimized_g2, df1,on=\"adgroup_id\")\n",
    "final_df.head()\n",
    "\n"
   ]
  },
  {
   "cell_type": "code",
   "execution_count": 20,
   "id": "d7565ced",
   "metadata": {},
   "outputs": [],
   "source": [
    "final_df['hist_cate_id'] = final_df['cate_id']\n",
    "final_df['hist_adgroup_id'] = final_df['adgroup_id']"
   ]
  },
  {
   "cell_type": "code",
   "execution_count": 21,
   "id": "8261661b",
   "metadata": {},
   "outputs": [
    {
     "data": {
      "text/plain": [
       "['adgroup_id', 'cate_id', 'userid', 'final_gender_code', 'clk']"
      ]
     },
     "execution_count": 21,
     "metadata": {},
     "output_type": "execute_result"
    }
   ],
   "source": [
    "sparse_features = [feat for feat in final_df.columns if feat not in ['time_stamp','pid', 'nonclk','brand',\n",
    "       'cms_segid', 'cms_group_id', 'age_level',\n",
    "       'pvalue_level', 'shopping_level', 'occupation', 'new_user_class_level ',\n",
    "        'campaign_id', 'customer', 'price', 'hist_cate_id','hist_adgroup_id']]\n",
    "sparse_features"
   ]
  },
  {
   "cell_type": "code",
   "execution_count": 22,
   "id": "634cb234",
   "metadata": {},
   "outputs": [
    {
     "data": {
      "text/plain": [
       "['price']"
      ]
     },
     "execution_count": 22,
     "metadata": {},
     "output_type": "execute_result"
    }
   ],
   "source": [
    "dense_features = [feat for feat in final_df.columns if feat not in ['userid', 'time_stamp', 'adgroup_id', 'pid', 'nonclk', 'clk',\n",
    "       'cms_segid', 'cms_group_id', 'final_gender_code', 'age_level',\n",
    "       'pvalue_level', 'shopping_level', 'occupation', 'new_user_class_level ',\n",
    "       'cate_id', 'campaign_id', 'customer', 'brand','hist_cate_id','hist_adgroup_id']]\n",
    "dense_features"
   ]
  },
  {
   "cell_type": "code",
   "execution_count": 23,
   "id": "fe322905",
   "metadata": {},
   "outputs": [
    {
     "data": {
      "text/plain": [
       "['hist_cate_id', 'hist_adgroup_id']"
      ]
     },
     "execution_count": 23,
     "metadata": {},
     "output_type": "execute_result"
    }
   ],
   "source": [
    "sequence_features = [feat for feat in final_df.columns if feat not in ['userid', 'time_stamp', 'adgroup_id', 'pid', 'nonclk', 'clk',\n",
    "       'cms_segid', 'cms_group_id', 'final_gender_code', 'age_level',\n",
    "       'pvalue_level', 'shopping_level', 'occupation', 'new_user_class_level ',\n",
    "       'cate_id', 'campaign_id', 'customer', 'brand', 'price']]\n",
    "sequence_features"
   ]
  },
  {
   "cell_type": "code",
   "execution_count": 24,
   "id": "a04a6e6c",
   "metadata": {},
   "outputs": [
    {
     "data": {
      "text/plain": [
       "['adgroup_id', 'cate_id']"
      ]
     },
     "execution_count": 24,
     "metadata": {},
     "output_type": "execute_result"
    }
   ],
   "source": [
    "behavior_feature_list = [feat for feat in final_df.columns if feat in ['adgroup_id', 'cate_id']]\n",
    "behavior_feature_list"
   ]
  },
  {
   "cell_type": "code",
   "execution_count": 25,
   "id": "97f270dd",
   "metadata": {},
   "outputs": [],
   "source": [
    "final_df[sparse_features] = final_df[sparse_features].fillna('-1', )\n",
    "final_df[sequence_features] = final_df[sequence_features].fillna('-1', )\n",
    "final_df[dense_features] = final_df[dense_features].fillna(0, )\n",
    "target = ['clk']"
   ]
  },
  {
   "cell_type": "code",
   "execution_count": 26,
   "id": "994cb585",
   "metadata": {},
   "outputs": [],
   "source": [
    "mms = MinMaxScaler(feature_range=(0, 1))\n",
    "final_df[dense_features] = mms.fit_transform(final_df[dense_features])"
   ]
  },
  {
   "cell_type": "code",
   "execution_count": 27,
   "id": "dd17a869",
   "metadata": {},
   "outputs": [],
   "source": [
    "from deepctr.feature_column import SparseFeat, VarLenSparseFeat, DenseFeat, get_feature_names\n",
    "\n",
    "fixlen_feature_columns = [SparseFeat(feat, vocabulary_size=final_df[feat].nunique() + 1,embedding_dim=8) for feat in sparse_features] + [DenseFeat(feat, 1, )for feat in dense_features] + [VarLenSparseFeat(SparseFeat(feat, vocabulary_size=2000000,embedding_dim=8), maxlen=1) for feat in sequence_features] \n"
   ]
  },
  {
   "cell_type": "code",
   "execution_count": 29,
   "id": "9b651f29",
   "metadata": {},
   "outputs": [],
   "source": [
    "linear_feature_columns = fixlen_feature_columns\n",
    "dnn_feature_columns = fixlen_feature_columns\n",
    "feature_names = get_feature_names(linear_feature_columns + dnn_feature_columns, )"
   ]
  },
  {
   "cell_type": "code",
   "execution_count": 30,
   "id": "43f2811a",
   "metadata": {},
   "outputs": [],
   "source": [
    "train, test = train_test_split(final_df, test_size=0.2)\n",
    "train_model_input = {name:train[name] for name in feature_names}\n",
    "test_model_input = {name:test[name] for name in feature_names}"
   ]
  },
  {
   "cell_type": "code",
   "execution_count": 44,
   "id": "3e4143da",
   "metadata": {},
   "outputs": [
    {
     "data": {
      "text/plain": [
       "(['adgroup_id', 'cate_id'],\n",
       " [SparseFeat(name='adgroup_id', vocabulary_size=827010, embedding_dim=8, use_hash=False, vocabulary_path=None, dtype='int32', embeddings_initializer=<tensorflow.python.keras.initializers.initializers_v1.RandomNormal object at 0x000001A8F8B258E0>, embedding_name='adgroup_id', group_name='default_group', trainable=True),\n",
       "  SparseFeat(name='cate_id', vocabulary_size=6726, embedding_dim=8, use_hash=False, vocabulary_path=None, dtype='int32', embeddings_initializer=<tensorflow.python.keras.initializers.initializers_v1.RandomNormal object at 0x000001A8819AD3A0>, embedding_name='cate_id', group_name='default_group', trainable=True),\n",
       "  SparseFeat(name='userid', vocabulary_size=1061769, embedding_dim=8, use_hash=False, vocabulary_path=None, dtype='int32', embeddings_initializer=<tensorflow.python.keras.initializers.initializers_v1.RandomNormal object at 0x000001A8819ADD60>, embedding_name='userid', group_name='default_group', trainable=True),\n",
       "  SparseFeat(name='final_gender_code', vocabulary_size=3, embedding_dim=8, use_hash=False, vocabulary_path=None, dtype='int32', embeddings_initializer=<tensorflow.python.keras.initializers.initializers_v1.RandomNormal object at 0x000001A8819AD670>, embedding_name='final_gender_code', group_name='default_group', trainable=True),\n",
       "  SparseFeat(name='clk', vocabulary_size=3, embedding_dim=8, use_hash=False, vocabulary_path=None, dtype='int32', embeddings_initializer=<tensorflow.python.keras.initializers.initializers_v1.RandomNormal object at 0x000001A8819ADCA0>, embedding_name='clk', group_name='default_group', trainable=True),\n",
       "  DenseFeat(name='price', dimension=1, dtype='float32', transform_fn=None),\n",
       "  VarLenSparseFeat(sparsefeat=SparseFeat(name='hist_cate_id', vocabulary_size=2000000, embedding_dim=8, use_hash=False, vocabulary_path=None, dtype='int32', embeddings_initializer=<tensorflow.python.keras.initializers.initializers_v1.RandomNormal object at 0x000001A8819AD130>, embedding_name='hist_cate_id', group_name='default_group', trainable=True), maxlen=1, combiner='mean', length_name=None, weight_name=None, weight_norm=True),\n",
       "  VarLenSparseFeat(sparsefeat=SparseFeat(name='hist_adgroup_id', vocabulary_size=2000000, embedding_dim=8, use_hash=False, vocabulary_path=None, dtype='int32', embeddings_initializer=<tensorflow.python.keras.initializers.initializers_v1.RandomNormal object at 0x000001A8819AD6D0>, embedding_name='hist_adgroup_id', group_name='default_group', trainable=True), maxlen=1, combiner='mean', length_name=None, weight_name=None, weight_norm=True)])"
      ]
     },
     "execution_count": 44,
     "metadata": {},
     "output_type": "execute_result"
    }
   ],
   "source": [
    "behavior_feature_list,linear_feature_columns"
   ]
  },
  {
   "cell_type": "code",
   "execution_count": 31,
   "id": "3723911c",
   "metadata": {},
   "outputs": [],
   "source": [
    "#model = DIN(linear_feature_columns,behavior_feature_list, task='binary')\n",
    "model = DIN(linear_feature_columns, behavior_feature_list, dnn_use_bn=True,\n",
    "        dnn_hidden_units=(200, 80), dnn_activation='relu', att_hidden_size=(80, 40), att_activation=\"dice\",\n",
    "        att_weight_normalization=False, l2_reg_dnn=0, l2_reg_embedding=1e-6, dnn_dropout=0, seed=1024,\n",
    "        task='binary')"
   ]
  },
  {
   "cell_type": "code",
   "execution_count": null,
   "id": "669d060a",
   "metadata": {},
   "outputs": [],
   "source": [
    "model.summary()"
   ]
  },
  {
   "cell_type": "code",
   "execution_count": null,
   "id": "b2dd2671",
   "metadata": {},
   "outputs": [
    {
     "name": "stdout",
     "output_type": "stream",
     "text": [
      "Epoch 1/3\n",
      "2990/2990 [==============================] - 144s 46ms/step - loss: 0.0022 - binary_crossentropy: 0.0022 - val_loss: 2.6753e-05 - val_binary_crossentropy: 1.8871e-05\n",
      "Epoch 2/3\n",
      "2990/2990 [==============================] - 137s 46ms/step - loss: 1.7822e-05 - binary_crossentropy: 1.3264e-05 - val_loss: 4.5345e-06 - val_binary_crossentropy: 2.3975e-06\n",
      "Epoch 3/3\n",
      "2990/2990 [==============================] - 137s 46ms/step - loss: 7.2298e-06 - binary_crossentropy: 6.2674e-06 - val_loss: 5.8224e-07 - val_binary_crossentropy: 3.1936e-07\n"
     ]
    }
   ],
   "source": [
    "model.compile(\"adam\", \"binary_crossentropy\",metrics=['binary_crossentropy'], )\n",
    "history = model.fit(train_model_input, train[target].values,batch_size=5024, epochs=3, verbose=1, validation_split=0.25)"
   ]
  },
  {
   "cell_type": "code",
   "execution_count": 34,
   "id": "b6e8e589",
   "metadata": {},
   "outputs": [
    {
     "name": "stdout",
     "output_type": "stream",
     "text": [
      "test LogLoss 0.0\n",
      "test AUC 1.0\n"
     ]
    }
   ],
   "source": [
    "pred_ans = model.predict(test_model_input, batch_size=256)\n",
    "print(\"test LogLoss\", round(log_loss(test[target].values, pred_ans), 2))\n",
    "print(\"test AUC\", round(roc_auc_score(test[target].values, pred_ans), 2))\n"
   ]
  },
  {
   "cell_type": "code",
   "execution_count": 43,
   "id": "c6761181",
   "metadata": {},
   "outputs": [
    {
     "data": {
      "text/plain": [
       "array([[4.8404513e-07],\n",
       "       [3.8911415e-07],\n",
       "       [4.7055474e-07],\n",
       "       ...,\n",
       "       [4.2876172e-07],\n",
       "       [4.9530757e-07],\n",
       "       [3.8096113e-07]], dtype=float32)"
      ]
     },
     "execution_count": 43,
     "metadata": {},
     "output_type": "execute_result"
    }
   ],
   "source": [
    "pred_ans"
   ]
  },
  {
   "cell_type": "code",
   "execution_count": null,
   "id": "8fb9d7e3",
   "metadata": {},
   "outputs": [],
   "source": []
  }
 ],
 "metadata": {
  "kernelspec": {
   "display_name": "UK1",
   "language": "python",
   "name": "python3"
  },
  "language_info": {
   "codemirror_mode": {
    "name": "ipython",
    "version": 3
   },
   "file_extension": ".py",
   "mimetype": "text/x-python",
   "name": "python",
   "nbconvert_exporter": "python",
   "pygments_lexer": "ipython3",
   "version": "3.9.20"
  }
 },
 "nbformat": 4,
 "nbformat_minor": 5
}
