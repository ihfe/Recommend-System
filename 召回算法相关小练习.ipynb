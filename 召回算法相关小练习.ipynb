{
 "cells": [
  {
   "cell_type": "code",
   "execution_count": 5,
   "id": "6f101f02",
   "metadata": {},
   "outputs": [],
   "source": [
    "import math\n",
    "import numpy as np\n",
    "import collections"
   ]
  },
  {
   "cell_type": "code",
   "execution_count": 6,
   "id": "11ea79c0",
   "metadata": {},
   "outputs": [],
   "source": [
    "#假设有以下行为数据:\n",
    "user_item_time_dict = {\n",
    "    '用户A': [('新闻1', 1.6), ('新闻2',2.4), ('新闻6', 1.0), ('新闻7', 2.5), ('新闻6', 1.9), ('新闻7', 0.4)],  # 点击了商品1和商品2\n",
    "    '用户B': [('新闻1', 0.9), ('新闻3', 1.3)],\n",
    "    '用户C': [('新闻99', 2.0), ('新闻1', 0.5), ('新闻3', 2.1)],\n",
    "    '用户D': [('新闻3', 1.4), ('新闻4', 1.1), ('新闻6', 1.0), ('新闻3', 0.4)],\n",
    "    '用户E': [('新闻9', 2.1), ('新闻3', 1.8)],\n",
    "    '用户F': [('新闻1', 2.0), ('新闻3', 1.7)],\n",
    "    '用户G': [('新闻9', 1.5), ('新闻7', 2.1)], \n",
    "    '用户H': [('新闻7', 1.6), ('新闻3', 2.2)],  \n",
    "}\n"
   ]
  },
  {
   "cell_type": "markdown",
   "id": "f9efcece",
   "metadata": {},
   "source": [
    "在没有得到相似性矩阵之前，我们可以对数据简单分析：\n",
    "比如：\n",
    "- 新闻1后面经常跟着新闻3，所以新闻1和新闻3的权重应该要大于新闻1和其他新闻的权重\n",
    "- 只有一个新闻2，新闻2和新闻6的相关性应该比新闻2和新闻1的相关性高，因为新闻2后面跟了两个新闻6（当然也跟了两个新闻7）"
   ]
  },
  {
   "cell_type": "markdown",
   "id": "57f71658",
   "metadata": {},
   "source": [
    "📌任务一：不考虑新闻内容 去得到新闻相似度矩阵\n",
    "\n",
    "不考虑内容，怎么建立新闻之间的相似性呢？---->基于规则\n",
    "1. 用户点击的时间权重 ---- 同一个用户，两篇文章点击间隔时间越长，越不相关，`click_time_weight`权重越小\n",
    "2. 用户点击的顺序权重 ---- 同一个用户，两篇文章点击间隔越长(或者理解为相对距离较大)，越不相关"
   ]
  },
  {
   "cell_type": "code",
   "execution_count": 7,
   "id": "be5431ac",
   "metadata": {},
   "outputs": [
    {
     "data": {
      "text/plain": [
       "{'新闻1': {'新闻2': 0.5931159611717185,\n",
       "  '新闻6': 0.5957274652784682,\n",
       "  '新闻7': 0.4169767138246315,\n",
       "  '新闻3': 1.1420539537573482,\n",
       "  '新闻99': 0.5163788220092422},\n",
       " '新闻2': {'新闻1': 0.41518117282020295,\n",
       "  '新闻6': 1.204538013991482,\n",
       "  '新闻7': 0.9701355065018669},\n",
       " '新闻6': {'新闻1': 0.4170092256949279,\n",
       "  '新闻2': 0.8431766097940373,\n",
       "  '新闻7': 1.1440380504432999,\n",
       "  '新闻3': 0.538343920879418,\n",
       "  '新闻4': 0.6676886445636208},\n",
       " '新闻7': {'新闻1': 0.291883699677242,\n",
       "  '新闻2': 0.6790948545513068,\n",
       "  '新闻6': 0.9822652253203883,\n",
       "  '新闻9': 0.5402334687943983,\n",
       "  '新闻3': 0.41252419369327964},\n",
       " '新闻3': {'新闻1': 0.7994377676301436,\n",
       "  '新闻99': 0.45671668503165624,\n",
       "  '新闻4': 0.9463652973962783,\n",
       "  '新闻6': 0.532164875384628,\n",
       "  '新闻9': 0.433873184783495,\n",
       "  '新闻7': 0.2887669355852957},\n",
       " '新闻99': {'新闻1': 0.7376840314417747, '新闻3': 0.6524524071880803},\n",
       " '新闻4': {'新闻3': 0.91601503340005, '新闻6': 0.9538409208051726},\n",
       " '新闻9': {'新闻3': 0.6198188354049929, '新闻7': 0.7717620982777119}}"
      ]
     },
     "execution_count": 7,
     "metadata": {},
     "output_type": "execute_result"
    }
   ],
   "source": [
    "i2i_sim = {} #保存新闻之间的相似性\n",
    "item_cnt = collections.defaultdict(int)\n",
    "\n",
    "for user,item_time_list in user_item_time_dict.items():\n",
    "    for loc1,(i,time_i) in enumerate(item_time_list):\n",
    "        i2i_sim.setdefault(i,{})\n",
    "        item_cnt[i] += 1\n",
    "        for loc2,(j,time_j) in enumerate(item_time_list):\n",
    "            if i==j:\n",
    "                continue\n",
    "            #时间权重\n",
    "            click_time_weight = np.exp(0.8**np.abs(time_i-time_j))#∈[1,e]\n",
    "            #顺序权重\n",
    "            loc_alpha = 1.0 if loc2>loc1 else 0.7\n",
    "            loc_weight = loc_alpha * (0.9**(np.abs(loc2-loc1)-1))\n",
    "            #最终权重\n",
    "            i2i_sim[i].setdefault(j,0)\n",
    "            i2i_sim[i][j] += loc_weight*click_time_weight / math.log(len(item_time_list) + 1)#除以log(),是为了减少活跃用户的权重\n",
    "for i, related_items in i2i_sim.items():\n",
    "    for j, wij in related_items.items():\n",
    "        i2i_sim[i][j] = wij / math.sqrt(item_cnt[i] * item_cnt[j])\n",
    "i2i_sim"
   ]
  },
  {
   "cell_type": "markdown",
   "id": "1d057fe2",
   "metadata": {},
   "source": [
    "📌任务二：根据新闻内容去建立新闻相似度矩阵\n",
    "- 读文件（360000篇新闻内容，每一篇对应251维的向量）\n",
    "\n",
    "- 向量归一化\n",
    "\n",
    "- 利用Faiss检索得到每篇新闻和其他新闻的topk相似性、topk新闻的id\n",
    "\n",
    "- 返回相似性词典\n",
    "\n",
    "（一）数据部分我们模拟生成16篇文章的向量，每个向量10维，如下：\n"
   ]
  },
  {
   "cell_type": "code",
   "execution_count": 14,
   "id": "1c19c776",
   "metadata": {},
   "outputs": [
    {
     "data": {
      "text/html": [
       "<div>\n",
       "<style scoped>\n",
       "    .dataframe tbody tr th:only-of-type {\n",
       "        vertical-align: middle;\n",
       "    }\n",
       "\n",
       "    .dataframe tbody tr th {\n",
       "        vertical-align: top;\n",
       "    }\n",
       "\n",
       "    .dataframe thead th {\n",
       "        text-align: right;\n",
       "    }\n",
       "</style>\n",
       "<table border=\"1\" class=\"dataframe\">\n",
       "  <thead>\n",
       "    <tr style=\"text-align: right;\">\n",
       "      <th></th>\n",
       "      <th>Dim_1</th>\n",
       "      <th>Dim_2</th>\n",
       "      <th>Dim_3</th>\n",
       "      <th>Dim_4</th>\n",
       "      <th>Dim_5</th>\n",
       "      <th>Dim_6</th>\n",
       "      <th>Dim_7</th>\n",
       "      <th>Dim_8</th>\n",
       "      <th>Dim_9</th>\n",
       "      <th>Dim_10</th>\n",
       "    </tr>\n",
       "  </thead>\n",
       "  <tbody>\n",
       "    <tr>\n",
       "      <th>0</th>\n",
       "      <td>0.073402</td>\n",
       "      <td>0.322475</td>\n",
       "      <td>0.655846</td>\n",
       "      <td>0.745564</td>\n",
       "      <td>0.974856</td>\n",
       "      <td>0.001904</td>\n",
       "      <td>0.344626</td>\n",
       "      <td>0.499609</td>\n",
       "      <td>0.822746</td>\n",
       "      <td>0.239762</td>\n",
       "    </tr>\n",
       "    <tr>\n",
       "      <th>1</th>\n",
       "      <td>0.676631</td>\n",
       "      <td>0.809446</td>\n",
       "      <td>0.042787</td>\n",
       "      <td>0.671026</td>\n",
       "      <td>0.821358</td>\n",
       "      <td>0.007901</td>\n",
       "      <td>0.146246</td>\n",
       "      <td>0.318660</td>\n",
       "      <td>0.142671</td>\n",
       "      <td>0.927429</td>\n",
       "    </tr>\n",
       "    <tr>\n",
       "      <th>2</th>\n",
       "      <td>0.250118</td>\n",
       "      <td>0.056921</td>\n",
       "      <td>0.639428</td>\n",
       "      <td>0.540723</td>\n",
       "      <td>0.363758</td>\n",
       "      <td>0.873752</td>\n",
       "      <td>0.820639</td>\n",
       "      <td>0.129606</td>\n",
       "      <td>0.476590</td>\n",
       "      <td>0.038671</td>\n",
       "    </tr>\n",
       "    <tr>\n",
       "      <th>3</th>\n",
       "      <td>0.668918</td>\n",
       "      <td>0.242803</td>\n",
       "      <td>0.910671</td>\n",
       "      <td>0.619329</td>\n",
       "      <td>0.503281</td>\n",
       "      <td>0.036067</td>\n",
       "      <td>0.150108</td>\n",
       "      <td>0.534444</td>\n",
       "      <td>0.749239</td>\n",
       "      <td>0.049436</td>\n",
       "    </tr>\n",
       "    <tr>\n",
       "      <th>4</th>\n",
       "      <td>0.480549</td>\n",
       "      <td>0.969858</td>\n",
       "      <td>0.823346</td>\n",
       "      <td>0.106325</td>\n",
       "      <td>0.096847</td>\n",
       "      <td>0.881640</td>\n",
       "      <td>0.055947</td>\n",
       "      <td>0.678211</td>\n",
       "      <td>0.816086</td>\n",
       "      <td>0.526621</td>\n",
       "    </tr>\n",
       "  </tbody>\n",
       "</table>\n",
       "</div>"
      ],
      "text/plain": [
       "      Dim_1     Dim_2     Dim_3     Dim_4     Dim_5     Dim_6     Dim_7  \\\n",
       "0  0.073402  0.322475  0.655846  0.745564  0.974856  0.001904  0.344626   \n",
       "1  0.676631  0.809446  0.042787  0.671026  0.821358  0.007901  0.146246   \n",
       "2  0.250118  0.056921  0.639428  0.540723  0.363758  0.873752  0.820639   \n",
       "3  0.668918  0.242803  0.910671  0.619329  0.503281  0.036067  0.150108   \n",
       "4  0.480549  0.969858  0.823346  0.106325  0.096847  0.881640  0.055947   \n",
       "\n",
       "      Dim_8     Dim_9    Dim_10  \n",
       "0  0.499609  0.822746  0.239762  \n",
       "1  0.318660  0.142671  0.927429  \n",
       "2  0.129606  0.476590  0.038671  \n",
       "3  0.534444  0.749239  0.049436  \n",
       "4  0.678211  0.816086  0.526621  "
      ]
     },
     "execution_count": 14,
     "metadata": {},
     "output_type": "execute_result"
    }
   ],
   "source": [
    "import pandas as pd\n",
    "import numpy as np\n",
    "import faiss\n",
    "\n",
    "# 生成16个10维的随机向量\n",
    "random_vectors = np.random.rand(16, 10)\n",
    "# 创建DataFrame\n",
    "df_vectors = pd.DataFrame(random_vectors, columns=[f\"Dim_{i+1}\" for i in range(10)])\n",
    "df_vectors.head()\n"
   ]
  },
  {
   "cell_type": "code",
   "execution_count": null,
   "id": "212645e7",
   "metadata": {},
   "outputs": [],
   "source": [
    "item_emb_cols = df_vectors.columns\n",
    "item_emb_np = np.ascontiguousarray(df_vectors.values,dtype=np.float32)"
   ]
  },
  {
   "cell_type": "code",
   "execution_count": null,
   "id": "d1c131b2",
   "metadata": {},
   "outputs": [],
   "source": [
    "#归一化\n",
    "item_emb_np = item_emb_np / np.linalg.norm(item_emb_np, axis=1, keepdims=True)\n",
    "\n",
    "# 建立faiss索引\n",
    "item_index = faiss.IndexFlatIP(item_emb_np.shape[1])\n",
    "item_index.add(item_emb_np)\n",
    "# 相似度查询，给每个索引位置上的向量返回topk个item以及相似度\n",
    "sim, idx = item_index.search(item_emb_np, 3) # 返回的是列表,返回3个相似度最高的"
   ]
  },
  {
   "cell_type": "code",
   "execution_count": 21,
   "id": "3db1cc9d",
   "metadata": {},
   "outputs": [
    {
     "data": {
      "text/plain": [
       "{1: {3: 0.8766532, 11: 0.7732587},\n",
       " 2: {14: 0.83587056, 7: 0.8355814},\n",
       " 3: {14: 0.7663307, 15: 0.74937594},\n",
       " 4: {0: 0.8766532, 11: 0.8165651},\n",
       " 5: {12: 0.86976963, 14: 0.83409804},\n",
       " 6: {6: 0.89792454, 11: 0.88355124},\n",
       " 7: {14: 0.9372531, 12: 0.90049255},\n",
       " 8: {14: 0.9236369, 9: 0.8715523},\n",
       " 9: {6: 0.87652004, 14: 0.86646056},\n",
       " 10: {7: 0.8715523, 11: 0.8632221},\n",
       " 11: {12: 0.905044, 6: 0.8936068},\n",
       " 12: {5: 0.88355124, 9: 0.8632221},\n",
       " 13: {10: 0.905044, 6: 0.90049255},\n",
       " 14: {10: 0.854641, 7: 0.82095826},\n",
       " 15: {6: 0.9372531, 7: 0.9236369}}"
      ]
     },
     "execution_count": 21,
     "metadata": {},
     "output_type": "execute_result"
    }
   ],
   "source": [
    "i2i_emb_sim = {}\n",
    "for n,sim_values,rele_idxs in zip(range(1,16),sim,idx):\n",
    "    i2i_emb_sim.setdefault(n,{})\n",
    "    for rele_idx, sim_value in zip(rele_idxs[1:], sim_values[1:]):\n",
    "        i2i_emb_sim[n][rele_idx] = sim_value\n",
    "i2i_emb_sim"
   ]
  },
  {
   "cell_type": "markdown",
   "id": "8b0356c2",
   "metadata": {},
   "source": [
    "📌任务三:根据每个用户的历史点击结果 做召回\n",
    "这里在召回的时候，也是用了关联规则的方式："
   ]
  },
  {
   "cell_type": "code",
   "execution_count": null,
   "id": "af882fd3",
   "metadata": {},
   "outputs": [],
   "source": []
  },
  {
   "cell_type": "markdown",
   "id": "13160157",
   "metadata": {},
   "source": [
    "📌任务四: 评估召回结果\n",
    "- 计算命中数： 对于每个用户，检查其最后一次点击的文章是否在召回的前 k 个文章中，如果在，则算作一次命中。\n",
    "- 计算击中率： 用命中数除以总用户数，得到击中率。"
   ]
  },
  {
   "cell_type": "markdown",
   "id": "1e3a8d93",
   "metadata": {},
   "source": []
  }
 ],
 "metadata": {
  "kernelspec": {
   "display_name": "UK1",
   "language": "python",
   "name": "python3"
  },
  "language_info": {
   "codemirror_mode": {
    "name": "ipython",
    "version": 3
   },
   "file_extension": ".py",
   "mimetype": "text/x-python",
   "name": "python",
   "nbconvert_exporter": "python",
   "pygments_lexer": "ipython3",
   "version": "3.9.20"
  }
 },
 "nbformat": 4,
 "nbformat_minor": 5
}
