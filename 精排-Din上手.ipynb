{
 "cells": [
  {
   "cell_type": "code",
   "execution_count": 1,
   "id": "cd041dbf",
   "metadata": {},
   "outputs": [
    {
     "name": "stdout",
     "output_type": "stream",
     "text": [
      "Requirement already satisfied: deepctr in c:\\users\\asus\\anaconda3\\envs\\uk1\\lib\\site-packages (0.9.3)\n",
      "Requirement already satisfied: tensorflow==2.10.1 in c:\\users\\asus\\anaconda3\\envs\\uk1\\lib\\site-packages (2.10.1)\n",
      "Requirement already satisfied: absl-py>=1.0.0 in c:\\users\\asus\\anaconda3\\envs\\uk1\\lib\\site-packages (from tensorflow==2.10.1) (2.2.2)\n",
      "Requirement already satisfied: astunparse>=1.6.0 in c:\\users\\asus\\anaconda3\\envs\\uk1\\lib\\site-packages (from tensorflow==2.10.1) (1.6.3)\n",
      "Requirement already satisfied: flatbuffers>=2.0 in c:\\users\\asus\\anaconda3\\envs\\uk1\\lib\\site-packages (from tensorflow==2.10.1) (25.2.10)\n",
      "Requirement already satisfied: gast<=0.4.0,>=0.2.1 in c:\\users\\asus\\anaconda3\\envs\\uk1\\lib\\site-packages (from tensorflow==2.10.1) (0.4.0)\n",
      "Requirement already satisfied: google-pasta>=0.1.1 in c:\\users\\asus\\anaconda3\\envs\\uk1\\lib\\site-packages (from tensorflow==2.10.1) (0.2.0)\n",
      "Requirement already satisfied: h5py>=2.9.0 in c:\\users\\asus\\anaconda3\\envs\\uk1\\lib\\site-packages (from tensorflow==2.10.1) (3.7.0)\n",
      "Requirement already satisfied: keras-preprocessing>=1.1.1 in c:\\users\\asus\\anaconda3\\envs\\uk1\\lib\\site-packages (from tensorflow==2.10.1) (1.1.2)\n",
      "Requirement already satisfied: libclang>=13.0.0 in c:\\users\\asus\\anaconda3\\envs\\uk1\\lib\\site-packages (from tensorflow==2.10.1) (18.1.1)\n",
      "Requirement already satisfied: numpy>=1.20 in c:\\users\\asus\\anaconda3\\envs\\uk1\\lib\\site-packages (from tensorflow==2.10.1) (1.26.4)\n",
      "Requirement already satisfied: opt-einsum>=2.3.2 in c:\\users\\asus\\anaconda3\\envs\\uk1\\lib\\site-packages (from tensorflow==2.10.1) (3.4.0)\n",
      "Requirement already satisfied: packaging in c:\\users\\asus\\anaconda3\\envs\\uk1\\lib\\site-packages (from tensorflow==2.10.1) (24.1)\n",
      "Requirement already satisfied: protobuf<3.20,>=3.9.2 in c:\\users\\asus\\anaconda3\\envs\\uk1\\lib\\site-packages (from tensorflow==2.10.1) (3.19.6)\n",
      "Requirement already satisfied: setuptools in c:\\users\\asus\\anaconda3\\envs\\uk1\\lib\\site-packages (from tensorflow==2.10.1) (75.1.0)\n",
      "Requirement already satisfied: six>=1.12.0 in c:\\users\\asus\\anaconda3\\envs\\uk1\\lib\\site-packages (from tensorflow==2.10.1) (1.16.0)\n",
      "Requirement already satisfied: termcolor>=1.1.0 in c:\\users\\asus\\anaconda3\\envs\\uk1\\lib\\site-packages (from tensorflow==2.10.1) (3.0.1)\n",
      "Requirement already satisfied: typing-extensions>=3.6.6 in c:\\users\\asus\\anaconda3\\envs\\uk1\\lib\\site-packages (from tensorflow==2.10.1) (4.12.2)\n",
      "Requirement already satisfied: wrapt>=1.11.0 in c:\\users\\asus\\anaconda3\\envs\\uk1\\lib\\site-packages (from tensorflow==2.10.1) (1.17.2)\n",
      "Requirement already satisfied: tensorflow-io-gcs-filesystem>=0.23.1 in c:\\users\\asus\\anaconda3\\envs\\uk1\\lib\\site-packages (from tensorflow==2.10.1) (0.31.0)\n",
      "Requirement already satisfied: grpcio<2.0,>=1.24.3 in c:\\users\\asus\\anaconda3\\envs\\uk1\\lib\\site-packages (from tensorflow==2.10.1) (1.70.0)\n",
      "Requirement already satisfied: tensorboard<2.11,>=2.10 in c:\\users\\asus\\anaconda3\\envs\\uk1\\lib\\site-packages (from tensorflow==2.10.1) (2.10.1)\n",
      "Requirement already satisfied: tensorflow-estimator<2.11,>=2.10.0 in c:\\users\\asus\\anaconda3\\envs\\uk1\\lib\\site-packages (from tensorflow==2.10.1) (2.10.0)\n",
      "Requirement already satisfied: keras<2.11,>=2.10.0 in c:\\users\\asus\\anaconda3\\envs\\uk1\\lib\\site-packages (from tensorflow==2.10.1) (2.10.0)\n",
      "Requirement already satisfied: requests in c:\\users\\asus\\anaconda3\\envs\\uk1\\lib\\site-packages (from deepctr) (2.32.3)\n",
      "Requirement already satisfied: wheel<1.0,>=0.23.0 in c:\\users\\asus\\anaconda3\\envs\\uk1\\lib\\site-packages (from astunparse>=1.6.0->tensorflow==2.10.1) (0.44.0)\n",
      "Requirement already satisfied: google-auth<3,>=1.6.3 in c:\\users\\asus\\anaconda3\\envs\\uk1\\lib\\site-packages (from tensorboard<2.11,>=2.10->tensorflow==2.10.1) (2.38.0)\n",
      "Requirement already satisfied: google-auth-oauthlib<0.5,>=0.4.1 in c:\\users\\asus\\anaconda3\\envs\\uk1\\lib\\site-packages (from tensorboard<2.11,>=2.10->tensorflow==2.10.1) (0.4.6)\n",
      "Requirement already satisfied: markdown>=2.6.8 in c:\\users\\asus\\anaconda3\\envs\\uk1\\lib\\site-packages (from tensorboard<2.11,>=2.10->tensorflow==2.10.1) (3.7)\n",
      "Requirement already satisfied: tensorboard-data-server<0.7.0,>=0.6.0 in c:\\users\\asus\\anaconda3\\envs\\uk1\\lib\\site-packages (from tensorboard<2.11,>=2.10->tensorflow==2.10.1) (0.6.1)\n",
      "Requirement already satisfied: tensorboard-plugin-wit>=1.6.0 in c:\\users\\asus\\anaconda3\\envs\\uk1\\lib\\site-packages (from tensorboard<2.11,>=2.10->tensorflow==2.10.1) (1.8.1)\n",
      "Requirement already satisfied: werkzeug>=1.0.1 in c:\\users\\asus\\anaconda3\\envs\\uk1\\lib\\site-packages (from tensorboard<2.11,>=2.10->tensorflow==2.10.1) (3.1.3)\n",
      "Requirement already satisfied: charset-normalizer<4,>=2 in c:\\users\\asus\\anaconda3\\envs\\uk1\\lib\\site-packages (from requests->deepctr) (3.3.2)\n",
      "Requirement already satisfied: idna<4,>=2.5 in c:\\users\\asus\\anaconda3\\envs\\uk1\\lib\\site-packages (from requests->deepctr) (2.10)\n",
      "Requirement already satisfied: urllib3<3,>=1.21.1 in c:\\users\\asus\\anaconda3\\envs\\uk1\\lib\\site-packages (from requests->deepctr) (1.26.20)\n",
      "Requirement already satisfied: certifi>=2017.4.17 in c:\\users\\asus\\anaconda3\\envs\\uk1\\lib\\site-packages (from requests->deepctr) (2024.8.30)\n",
      "Requirement already satisfied: cachetools<6.0,>=2.0.0 in c:\\users\\asus\\anaconda3\\envs\\uk1\\lib\\site-packages (from google-auth<3,>=1.6.3->tensorboard<2.11,>=2.10->tensorflow==2.10.1) (5.5.2)\n",
      "Requirement already satisfied: pyasn1-modules>=0.2.1 in c:\\users\\asus\\anaconda3\\envs\\uk1\\lib\\site-packages (from google-auth<3,>=1.6.3->tensorboard<2.11,>=2.10->tensorflow==2.10.1) (0.4.1)\n",
      "Requirement already satisfied: rsa<5,>=3.1.4 in c:\\users\\asus\\anaconda3\\envs\\uk1\\lib\\site-packages (from google-auth<3,>=1.6.3->tensorboard<2.11,>=2.10->tensorflow==2.10.1) (4.9)\n",
      "Requirement already satisfied: requests-oauthlib>=0.7.0 in c:\\users\\asus\\anaconda3\\envs\\uk1\\lib\\site-packages (from google-auth-oauthlib<0.5,>=0.4.1->tensorboard<2.11,>=2.10->tensorflow==2.10.1) (2.0.0)\n",
      "Requirement already satisfied: importlib-metadata>=4.4 in c:\\users\\asus\\anaconda3\\envs\\uk1\\lib\\site-packages (from markdown>=2.6.8->tensorboard<2.11,>=2.10->tensorflow==2.10.1) (8.5.0)\n",
      "Requirement already satisfied: MarkupSafe>=2.1.1 in c:\\users\\asus\\anaconda3\\envs\\uk1\\lib\\site-packages (from werkzeug>=1.0.1->tensorboard<2.11,>=2.10->tensorflow==2.10.1) (3.0.2)\n",
      "Requirement already satisfied: zipp>=3.20 in c:\\users\\asus\\anaconda3\\envs\\uk1\\lib\\site-packages (from importlib-metadata>=4.4->markdown>=2.6.8->tensorboard<2.11,>=2.10->tensorflow==2.10.1) (3.20.2)\n",
      "Requirement already satisfied: pyasn1<0.7.0,>=0.4.6 in c:\\users\\asus\\anaconda3\\envs\\uk1\\lib\\site-packages (from pyasn1-modules>=0.2.1->google-auth<3,>=1.6.3->tensorboard<2.11,>=2.10->tensorflow==2.10.1) (0.6.1)\n",
      "Requirement already satisfied: oauthlib>=3.0.0 in c:\\users\\asus\\anaconda3\\envs\\uk1\\lib\\site-packages (from requests-oauthlib>=0.7.0->google-auth-oauthlib<0.5,>=0.4.1->tensorboard<2.11,>=2.10->tensorflow==2.10.1) (3.2.2)\n"
     ]
    }
   ],
   "source": [
    "!pip install deepctr tensorflow==2.10.1"
   ]
  },
  {
   "cell_type": "code",
   "execution_count": 2,
   "id": "7035c70b",
   "metadata": {},
   "outputs": [],
   "source": [
    "from sklearn.metrics import log_loss, roc_auc_score\n",
    "from sklearn.model_selection import StratifiedKFold\n",
    "from sklearn.preprocessing import LabelEncoder\n",
    "from tensorflow.keras.models import Model, load_model\n",
    "from deepctr.models import DIN\n",
    "from deepctr.feature_column import SparseFeat, VarLenSparseFeat, DenseFeat, get_feature_names\n",
    "\n",
    "from tensorflow.keras.callbacks import ModelCheckpoint, LearningRateScheduler, Callback\n",
    "from sklearn.preprocessing import OrdinalEncoder, LabelEncoder, OneHotEncoder\n",
    "from tensorflow.keras.utils import get_custom_objects\n",
    "from tensorflow.keras.optimizers import Adam,RMSprop\n",
    "from tensorflow.keras.layers import Activation\n",
    "from tensorflow.keras import backend as K\n",
    "from tensorflow.keras import callbacks\n",
    "from tensorflow.keras import utils\n",
    "import tensorflow.keras as keras\n",
    "import tensorflow as tf\n",
    "import pandas as pd\n",
    "import numpy as np\n",
    "import warnings\n",
    "# import pandas_profiling \n",
    "from sklearn.metrics import log_loss, roc_auc_score\n",
    "from sklearn.model_selection import train_test_split\n",
    "from sklearn.preprocessing import MinMaxScaler\n",
    "warnings.simplefilter('ignore')"
   ]
  },
  {
   "cell_type": "code",
   "execution_count": 3,
   "id": "68ca10c0",
   "metadata": {},
   "outputs": [],
   "source": [
    "raw_sample_df = pd.read_csv('E:\\\\UK\\\\新闻推荐\\\\广告点击率预测\\\\raw_sample.csv')\n",
    "ad_feature_df = pd.read_csv('E:\\\\UK\\\\新闻推荐\\\\广告点击率预测\\\\ad_feature.csv')\n",
    "user_profile_df=pd.read_csv('E:\\\\UK\\\\新闻推荐\\\\广告点击率预测\\\\user_profile.csv')"
   ]
  },
  {
   "cell_type": "code",
   "execution_count": 4,
   "id": "2857e04e",
   "metadata": {},
   "outputs": [
    {
     "name": "stdout",
     "output_type": "stream",
     "text": [
      "raw_sample_df memory size: 1215.73 MB\n",
      "ad_feature_df memory size: 38.76 MB\n",
      "user_profile_df memory size: 72.91 MB\n"
     ]
    }
   ],
   "source": [
    "test_size_mb = raw_sample_df.memory_usage().sum() / 1024 / 1024\n",
    "test_size_mb1 = ad_feature_df.memory_usage().sum() / 1024 / 1024\n",
    "test_size_mb2 = user_profile_df.memory_usage().sum() / 1024 / 1024\n",
    "print(\"raw_sample_df memory size: %.2f MB\" % test_size_mb)\n",
    "print(\"ad_feature_df memory size: %.2f MB\" % test_size_mb1)\n",
    "print(\"user_profile_df memory size: %.2f MB\" % test_size_mb2)"
   ]
  },
  {
   "cell_type": "code",
   "execution_count": 5,
   "id": "769fa290",
   "metadata": {},
   "outputs": [],
   "source": [
    "def mem_usage(pandas_obj):\n",
    "    if isinstance(pandas_obj,pd.DataFrame):\n",
    "        usage_b = pandas_obj.memory_usage(deep=True).sum()\n",
    "    else: # we assume if not a df it's a series\n",
    "        usage_b = pandas_obj.memory_usage(deep=True)\n",
    "    usage_mb = usage_b / 1024 ** 2 # convert bytes to megabytes\n",
    "    return \"{:03.2f} MB\".format(usage_mb)"
   ]
  },
  {
   "cell_type": "code",
   "execution_count": 6,
   "id": "974ddf5e",
   "metadata": {},
   "outputs": [
    {
     "name": "stdout",
     "output_type": "stream",
     "text": [
      "<class 'pandas.core.frame.DataFrame'>\n",
      "RangeIndex: 26557961 entries, 0 to 26557960\n",
      "Data columns (total 6 columns):\n",
      " #   Column      Dtype \n",
      "---  ------      ----- \n",
      " 0   user        int64 \n",
      " 1   time_stamp  int64 \n",
      " 2   adgroup_id  int64 \n",
      " 3   pid         object\n",
      " 4   nonclk      int64 \n",
      " 5   clk         int64 \n",
      "dtypes: int64(5), object(1)\n",
      "memory usage: 2.7 GB\n"
     ]
    }
   ],
   "source": [
    "raw_sample_df.info(memory_usage='deep')"
   ]
  },
  {
   "cell_type": "code",
   "execution_count": 7,
   "id": "07908a91",
   "metadata": {},
   "outputs": [
    {
     "name": "stdout",
     "output_type": "stream",
     "text": [
      "Original Ad Feature dataframe:2735.39 MB\n",
      "Memory Optimised Ad Feature dataframe:379.92 MB\n"
     ]
    }
   ],
   "source": [
    "optimized_gl = raw_sample_df.copy()\n",
    "\n",
    "gl_int = raw_sample_df.select_dtypes(include=['int'])#gl_int是一个Dataframe,包含四列：[adgroup_id,cate_id,campaign_id,customer]\n",
    "converted_int = gl_int.apply(pd.to_numeric,downcast='unsigned')\n",
    "optimized_gl[converted_int.columns] = converted_int\n",
    "\n",
    "\n",
    "gl_obj = raw_sample_df.select_dtypes(include=['object']).copy()\n",
    "converted_obj = pd.DataFrame()\n",
    "for col in gl_obj.columns:\n",
    "    num_unique_values = len(gl_obj[col].unique())\n",
    "    num_total_values = len(gl_obj[col])\n",
    "    if num_unique_values / num_total_values < 0.5:\n",
    "        converted_obj.loc[:,col] = gl_obj[col].astype('category')\n",
    "    else:\n",
    "        converted_obj.loc[:,col] = gl_obj[col]\n",
    "optimized_gl[converted_obj.columns] = converted_obj\n",
    "print(\"Original Ad Feature dataframe:{0}\".format(mem_usage(raw_sample_df)))\n",
    "print(\"Memory Optimised Ad Feature dataframe:{0}\".format(mem_usage(optimized_gl)))"
   ]
  },
  {
   "cell_type": "code",
   "execution_count": 8,
   "id": "a4d01f5f",
   "metadata": {},
   "outputs": [],
   "source": [
    "raw_sample_df = optimized_gl.copy()\n",
    "raw_sample_df_new = raw_sample_df.rename(columns = {\"user\": \"userid\"})"
   ]
  },
  {
   "cell_type": "code",
   "execution_count": 9,
   "id": "2b4cb9c6",
   "metadata": {},
   "outputs": [
    {
     "name": "stdout",
     "output_type": "stream",
     "text": [
      "<class 'pandas.core.frame.DataFrame'>\n",
      "RangeIndex: 846811 entries, 0 to 846810\n",
      "Data columns (total 6 columns):\n",
      " #   Column       Non-Null Count   Dtype  \n",
      "---  ------       --------------   -----  \n",
      " 0   adgroup_id   846811 non-null  int64  \n",
      " 1   cate_id      846811 non-null  int64  \n",
      " 2   campaign_id  846811 non-null  int64  \n",
      " 3   customer     846811 non-null  int64  \n",
      " 4   brand        600481 non-null  float64\n",
      " 5   price        846811 non-null  float64\n",
      "dtypes: float64(2), int64(4)\n",
      "memory usage: 38.8 MB\n"
     ]
    }
   ],
   "source": [
    "ad_feature_df.info(memory_usage='deep')"
   ]
  },
  {
   "cell_type": "code",
   "execution_count": 10,
   "id": "b6b5b7e5",
   "metadata": {},
   "outputs": [
    {
     "name": "stdout",
     "output_type": "stream",
     "text": [
      "Original Ad Feature dataframe:38.76 MB\n",
      "Memory Optimised Ad Feature dataframe:21.00 MB\n"
     ]
    }
   ],
   "source": [
    "optimized_g2 = ad_feature_df.copy()\n",
    "\n",
    "g2_int = ad_feature_df.select_dtypes(include=['int'])\n",
    "converted_int = g2_int.apply(pd.to_numeric,downcast='unsigned')\n",
    "optimized_g2[converted_int.columns] = converted_int\n",
    "\n",
    "g2_float = ad_feature_df.select_dtypes(include=['float'])\n",
    "converted_float = g2_float.apply(pd.to_numeric,downcast='float')#downcast='float' 会将 float64 压缩为 float32 或更低位；\n",
    "optimized_g2[converted_float.columns] = converted_float\n",
    "\n",
    "print(\"Original Ad Feature dataframe:{0}\".format(mem_usage(ad_feature_df)))\n",
    "print(\"Memory Optimised Ad Feature dataframe:{0}\".format(mem_usage(optimized_g2)))"
   ]
  },
  {
   "cell_type": "code",
   "execution_count": 11,
   "id": "ebf2bcb4",
   "metadata": {},
   "outputs": [
    {
     "name": "stdout",
     "output_type": "stream",
     "text": [
      "<class 'pandas.core.frame.DataFrame'>\n",
      "RangeIndex: 1061768 entries, 0 to 1061767\n",
      "Data columns (total 9 columns):\n",
      " #   Column                 Non-Null Count    Dtype  \n",
      "---  ------                 --------------    -----  \n",
      " 0   userid                 1061768 non-null  int64  \n",
      " 1   cms_segid              1061768 non-null  int64  \n",
      " 2   cms_group_id           1061768 non-null  int64  \n",
      " 3   final_gender_code      1061768 non-null  int64  \n",
      " 4   age_level              1061768 non-null  int64  \n",
      " 5   pvalue_level           485851 non-null   float64\n",
      " 6   shopping_level         1061768 non-null  int64  \n",
      " 7   occupation             1061768 non-null  int64  \n",
      " 8   new_user_class_level   716848 non-null   float64\n",
      "dtypes: float64(2), int64(7)\n",
      "memory usage: 72.9 MB\n"
     ]
    }
   ],
   "source": [
    "user_profile_df.info(memory_usage='deep')"
   ]
  },
  {
   "cell_type": "code",
   "execution_count": 12,
   "id": "49a782d7",
   "metadata": {},
   "outputs": [
    {
     "name": "stdout",
     "output_type": "stream",
     "text": [
      "Original User Feature dataframe:72.91 MB\n",
      "Memory Optimised User Feature dataframe:18.23 MB\n"
     ]
    }
   ],
   "source": [
    "optimized_g3 = user_profile_df.copy()\n",
    "\n",
    "g3_int = user_profile_df.select_dtypes(include=['int'])\n",
    "converted_int = g3_int.apply(pd.to_numeric,downcast='unsigned')\n",
    "optimized_g3[converted_int.columns] = converted_int\n",
    "\n",
    "g3_float = user_profile_df.select_dtypes(include=['float'])\n",
    "converted_float = g3_float.apply(pd.to_numeric,downcast='float')\n",
    "optimized_g3[converted_float.columns] = converted_float\n",
    "\n",
    "print(\"Original User Feature dataframe:{0}\".format(mem_usage(user_profile_df)))\n",
    "print(\"Memory Optimised User Feature dataframe:{0}\".format(mem_usage(optimized_g3)))"
   ]
  },
  {
   "cell_type": "markdown",
   "id": "6c90e95c",
   "metadata": {},
   "source": [
    "##### 内存优化结束，合并结果"
   ]
  },
  {
   "cell_type": "markdown",
   "id": "c01b0475",
   "metadata": {},
   "source": [
    "- `optimized_g3`也就是 `user_profile_df`得来的\n",
    "- `optimized_g2`也就是 `ad_feature_df`得来的"
   ]
  },
  {
   "cell_type": "code",
   "execution_count": 13,
   "id": "7210da96",
   "metadata": {},
   "outputs": [
    {
     "data": {
      "text/html": [
       "<div>\n",
       "<style scoped>\n",
       "    .dataframe tbody tr th:only-of-type {\n",
       "        vertical-align: middle;\n",
       "    }\n",
       "\n",
       "    .dataframe tbody tr th {\n",
       "        vertical-align: top;\n",
       "    }\n",
       "\n",
       "    .dataframe thead th {\n",
       "        text-align: right;\n",
       "    }\n",
       "</style>\n",
       "<table border=\"1\" class=\"dataframe\">\n",
       "  <thead>\n",
       "    <tr style=\"text-align: right;\">\n",
       "      <th></th>\n",
       "      <th>adgroup_id</th>\n",
       "      <th>cate_id</th>\n",
       "      <th>campaign_id</th>\n",
       "      <th>customer</th>\n",
       "      <th>brand</th>\n",
       "      <th>price</th>\n",
       "      <th>userid</th>\n",
       "      <th>cms_segid</th>\n",
       "      <th>cms_group_id</th>\n",
       "      <th>final_gender_code</th>\n",
       "      <th>age_level</th>\n",
       "      <th>pvalue_level</th>\n",
       "      <th>shopping_level</th>\n",
       "      <th>occupation</th>\n",
       "      <th>new_user_class_level</th>\n",
       "      <th>time_stamp</th>\n",
       "      <th>pid</th>\n",
       "      <th>nonclk</th>\n",
       "      <th>clk</th>\n",
       "    </tr>\n",
       "  </thead>\n",
       "  <tbody>\n",
       "    <tr>\n",
       "      <th>0</th>\n",
       "      <td>63133</td>\n",
       "      <td>6406</td>\n",
       "      <td>83237</td>\n",
       "      <td>1</td>\n",
       "      <td>95471.0</td>\n",
       "      <td>170.0</td>\n",
       "      <td>172283</td>\n",
       "      <td>0</td>\n",
       "      <td>3</td>\n",
       "      <td>2</td>\n",
       "      <td>3</td>\n",
       "      <td>NaN</td>\n",
       "      <td>3</td>\n",
       "      <td>0</td>\n",
       "      <td>4.0</td>\n",
       "      <td>1494386115</td>\n",
       "      <td>430548_1007</td>\n",
       "      <td>1</td>\n",
       "      <td>0</td>\n",
       "    </tr>\n",
       "    <tr>\n",
       "      <th>1</th>\n",
       "      <td>63133</td>\n",
       "      <td>6406</td>\n",
       "      <td>83237</td>\n",
       "      <td>1</td>\n",
       "      <td>95471.0</td>\n",
       "      <td>170.0</td>\n",
       "      <td>172283</td>\n",
       "      <td>0</td>\n",
       "      <td>3</td>\n",
       "      <td>2</td>\n",
       "      <td>3</td>\n",
       "      <td>NaN</td>\n",
       "      <td>3</td>\n",
       "      <td>0</td>\n",
       "      <td>4.0</td>\n",
       "      <td>1494490600</td>\n",
       "      <td>430548_1007</td>\n",
       "      <td>1</td>\n",
       "      <td>0</td>\n",
       "    </tr>\n",
       "    <tr>\n",
       "      <th>2</th>\n",
       "      <td>63133</td>\n",
       "      <td>6406</td>\n",
       "      <td>83237</td>\n",
       "      <td>1</td>\n",
       "      <td>95471.0</td>\n",
       "      <td>170.0</td>\n",
       "      <td>172283</td>\n",
       "      <td>0</td>\n",
       "      <td>3</td>\n",
       "      <td>2</td>\n",
       "      <td>3</td>\n",
       "      <td>NaN</td>\n",
       "      <td>3</td>\n",
       "      <td>0</td>\n",
       "      <td>4.0</td>\n",
       "      <td>1494304390</td>\n",
       "      <td>430548_1007</td>\n",
       "      <td>1</td>\n",
       "      <td>0</td>\n",
       "    </tr>\n",
       "    <tr>\n",
       "      <th>3</th>\n",
       "      <td>63133</td>\n",
       "      <td>6406</td>\n",
       "      <td>83237</td>\n",
       "      <td>1</td>\n",
       "      <td>95471.0</td>\n",
       "      <td>170.0</td>\n",
       "      <td>658198</td>\n",
       "      <td>35</td>\n",
       "      <td>4</td>\n",
       "      <td>2</td>\n",
       "      <td>4</td>\n",
       "      <td>2.0</td>\n",
       "      <td>3</td>\n",
       "      <td>0</td>\n",
       "      <td>2.0</td>\n",
       "      <td>1494675187</td>\n",
       "      <td>430539_1007</td>\n",
       "      <td>1</td>\n",
       "      <td>0</td>\n",
       "    </tr>\n",
       "    <tr>\n",
       "      <th>4</th>\n",
       "      <td>63133</td>\n",
       "      <td>6406</td>\n",
       "      <td>83237</td>\n",
       "      <td>1</td>\n",
       "      <td>95471.0</td>\n",
       "      <td>170.0</td>\n",
       "      <td>620600</td>\n",
       "      <td>0</td>\n",
       "      <td>12</td>\n",
       "      <td>1</td>\n",
       "      <td>6</td>\n",
       "      <td>NaN</td>\n",
       "      <td>3</td>\n",
       "      <td>0</td>\n",
       "      <td>NaN</td>\n",
       "      <td>1494602154</td>\n",
       "      <td>430548_1007</td>\n",
       "      <td>1</td>\n",
       "      <td>0</td>\n",
       "    </tr>\n",
       "  </tbody>\n",
       "</table>\n",
       "</div>"
      ],
      "text/plain": [
       "   adgroup_id  cate_id  campaign_id  customer    brand  price  userid  \\\n",
       "0       63133     6406        83237         1  95471.0  170.0  172283   \n",
       "1       63133     6406        83237         1  95471.0  170.0  172283   \n",
       "2       63133     6406        83237         1  95471.0  170.0  172283   \n",
       "3       63133     6406        83237         1  95471.0  170.0  658198   \n",
       "4       63133     6406        83237         1  95471.0  170.0  620600   \n",
       "\n",
       "   cms_segid  cms_group_id  final_gender_code  age_level  pvalue_level  \\\n",
       "0          0             3                  2          3           NaN   \n",
       "1          0             3                  2          3           NaN   \n",
       "2          0             3                  2          3           NaN   \n",
       "3         35             4                  2          4           2.0   \n",
       "4          0            12                  1          6           NaN   \n",
       "\n",
       "   shopping_level  occupation  new_user_class_level   time_stamp          pid  \\\n",
       "0               3           0                    4.0  1494386115  430548_1007   \n",
       "1               3           0                    4.0  1494490600  430548_1007   \n",
       "2               3           0                    4.0  1494304390  430548_1007   \n",
       "3               3           0                    2.0  1494675187  430539_1007   \n",
       "4               3           0                    NaN  1494602154  430548_1007   \n",
       "\n",
       "   nonclk  clk  \n",
       "0       1    0  \n",
       "1       1    0  \n",
       "2       1    0  \n",
       "3       1    0  \n",
       "4       1    0  "
      ]
     },
     "execution_count": 13,
     "metadata": {},
     "output_type": "execute_result"
    }
   ],
   "source": [
    "raw_sample_df_new[\"userid\"] = raw_sample_df_new[\"userid\"].astype(np.int64).astype(np.uint32)\n",
    "optimized_g3[\"userid\"] = optimized_g3[\"userid\"].astype(np.int64).astype(np.uint32)\n",
    "\n",
    "df1 = pd.merge(optimized_g3, raw_sample_df_new, on=\"userid\")\n",
    "\n",
    "df1[\"adgroup_id\"] = df1[\"adgroup_id\"].astype(np.int64).astype(np.uint32)\n",
    "optimized_g2[\"adgroup_id\"] = optimized_g2[\"adgroup_id\"].astype(np.int64).astype(np.uint32)\n",
    "\n",
    "final_df = pd.merge(optimized_g2, df1,on=\"adgroup_id\")\n",
    "final_df.head()"
   ]
  },
  {
   "cell_type": "code",
   "execution_count": 14,
   "id": "d7565ced",
   "metadata": {},
   "outputs": [],
   "source": [
    "final_df['hist_cate_id'] = final_df['cate_id']\n",
    "final_df['hist_adgroup_id'] = final_df['adgroup_id']"
   ]
  },
  {
   "cell_type": "code",
   "execution_count": 29,
   "id": "8261661b",
   "metadata": {},
   "outputs": [
    {
     "data": {
      "text/plain": [
       "['adgroup_id', 'cate_id', 'userid', 'final_gender_code']"
      ]
     },
     "execution_count": 29,
     "metadata": {},
     "output_type": "execute_result"
    }
   ],
   "source": [
    "sparse_features = [feat for feat in final_df.columns if feat not in ['time_stamp','pid', 'nonclk','brand',\n",
    "       'cms_segid', 'cms_group_id', 'age_level','clk',\n",
    "       'pvalue_level', 'shopping_level', 'occupation', 'new_user_class_level ',\n",
    "        'campaign_id', 'customer', 'price', 'hist_cate_id','hist_adgroup_id']]\n",
    "sparse_features"
   ]
  },
  {
   "cell_type": "code",
   "execution_count": 30,
   "id": "634cb234",
   "metadata": {},
   "outputs": [
    {
     "data": {
      "text/plain": [
       "['price']"
      ]
     },
     "execution_count": 30,
     "metadata": {},
     "output_type": "execute_result"
    }
   ],
   "source": [
    "dense_features = [feat for feat in final_df.columns if feat not in ['userid', 'time_stamp', 'adgroup_id', 'pid', 'nonclk', 'clk',\n",
    "       'cms_segid', 'cms_group_id', 'final_gender_code', 'age_level',\n",
    "       'pvalue_level', 'shopping_level', 'occupation', 'new_user_class_level ',\n",
    "       'cate_id', 'campaign_id', 'customer', 'brand','hist_cate_id','hist_adgroup_id']]\n",
    "dense_features"
   ]
  },
  {
   "cell_type": "code",
   "execution_count": 31,
   "id": "fe322905",
   "metadata": {},
   "outputs": [
    {
     "data": {
      "text/plain": [
       "['hist_cate_id', 'hist_adgroup_id']"
      ]
     },
     "execution_count": 31,
     "metadata": {},
     "output_type": "execute_result"
    }
   ],
   "source": [
    "sequence_features = [feat for feat in final_df.columns if feat not in ['userid', 'time_stamp', 'adgroup_id', 'pid', 'nonclk', 'clk',\n",
    "       'cms_segid', 'cms_group_id', 'final_gender_code', 'age_level',\n",
    "       'pvalue_level', 'shopping_level', 'occupation', 'new_user_class_level ',\n",
    "       'cate_id', 'campaign_id', 'customer', 'brand', 'price']]\n",
    "sequence_features"
   ]
  },
  {
   "cell_type": "code",
   "execution_count": 32,
   "id": "a04a6e6c",
   "metadata": {},
   "outputs": [
    {
     "data": {
      "text/plain": [
       "['adgroup_id', 'cate_id']"
      ]
     },
     "execution_count": 32,
     "metadata": {},
     "output_type": "execute_result"
    }
   ],
   "source": [
    "behavior_feature_list = [feat for feat in final_df.columns if feat in ['adgroup_id', 'cate_id']]\n",
    "behavior_feature_list"
   ]
  },
  {
   "cell_type": "code",
   "execution_count": 33,
   "id": "97f270dd",
   "metadata": {},
   "outputs": [],
   "source": [
    "final_df[sparse_features] = final_df[sparse_features].fillna('-1', )\n",
    "final_df[sequence_features] = final_df[sequence_features].fillna('-1', )\n",
    "final_df[dense_features] = final_df[dense_features].fillna(0, )\n",
    "target = ['clk']"
   ]
  },
  {
   "cell_type": "code",
   "execution_count": 34,
   "id": "994cb585",
   "metadata": {},
   "outputs": [],
   "source": [
    "mms = MinMaxScaler(feature_range=(0, 1))\n",
    "final_df[dense_features] = mms.fit_transform(final_df[dense_features])"
   ]
  },
  {
   "cell_type": "code",
   "execution_count": 35,
   "id": "dd17a869",
   "metadata": {},
   "outputs": [],
   "source": [
    "from deepctr.feature_column import SparseFeat, VarLenSparseFeat, DenseFeat, get_feature_names\n",
    "fixlen_feature_columns = [SparseFeat(feat, vocabulary_size=final_df[feat].nunique() + 1,embedding_dim=8) for feat in sparse_features] + [DenseFeat(feat, 1, )for feat in dense_features] + [VarLenSparseFeat(SparseFeat(feat, vocabulary_size=2000000,embedding_dim=8), maxlen=1) for feat in sequence_features] "
   ]
  },
  {
   "cell_type": "code",
   "execution_count": 36,
   "id": "9b651f29",
   "metadata": {},
   "outputs": [],
   "source": [
    "linear_feature_columns = fixlen_feature_columns\n",
    "dnn_feature_columns = fixlen_feature_columns\n",
    "feature_names = get_feature_names(linear_feature_columns + dnn_feature_columns, )"
   ]
  },
  {
   "cell_type": "code",
   "execution_count": 37,
   "id": "43f2811a",
   "metadata": {},
   "outputs": [],
   "source": [
    "train, test = train_test_split(final_df, test_size=0.2)\n",
    "train_model_input = {name:train[name] for name in feature_names}\n",
    "test_model_input = {name:test[name] for name in feature_names}"
   ]
  },
  {
   "cell_type": "code",
   "execution_count": 38,
   "id": "3e4143da",
   "metadata": {},
   "outputs": [],
   "source": [
    "# behavior_feature_list,linear_feature_columns"
   ]
  },
  {
   "cell_type": "code",
   "execution_count": 39,
   "id": "3723911c",
   "metadata": {},
   "outputs": [],
   "source": [
    "#model = DIN(linear_feature_columns,behavior_feature_list, task='binary')\n",
    "model = DIN(linear_feature_columns, behavior_feature_list, dnn_use_bn=True,\n",
    "        dnn_hidden_units=(200, 80), dnn_activation='relu', att_hidden_size=(80, 40), att_activation=\"dice\",\n",
    "        att_weight_normalization=False, l2_reg_dnn=0, l2_reg_embedding=1e-6, dnn_dropout=0, seed=1024,\n",
    "        task='binary')"
   ]
  },
  {
   "cell_type": "code",
   "execution_count": 40,
   "id": "669d060a",
   "metadata": {},
   "outputs": [
    {
     "name": "stdout",
     "output_type": "stream",
     "text": [
      "Model: \"model_1\"\n",
      "__________________________________________________________________________________________________\n",
      "Layer (type)                    Output Shape         Param #     Connected to                     \n",
      "==================================================================================================\n",
      "adgroup_id (InputLayer)         [(None, 1)]          0                                            \n",
      "__________________________________________________________________________________________________\n",
      "cate_id (InputLayer)            [(None, 1)]          0                                            \n",
      "__________________________________________________________________________________________________\n",
      "hist_cate_id (InputLayer)       [(None, 1)]          0                                            \n",
      "__________________________________________________________________________________________________\n",
      "hist_adgroup_id (InputLayer)    [(None, 1)]          0                                            \n",
      "__________________________________________________________________________________________________\n",
      "sparse_emb_adgroup_id (Embeddin (None, 1, 8)         6616080     adgroup_id[0][0]                 \n",
      "                                                                 adgroup_id[0][0]                 \n",
      "__________________________________________________________________________________________________\n",
      "sparse_emb_cate_id (Embedding)  (None, 1, 8)         53808       cate_id[0][0]                    \n",
      "                                                                 cate_id[0][0]                    \n",
      "__________________________________________________________________________________________________\n",
      "userid (InputLayer)             [(None, 1)]          0                                            \n",
      "__________________________________________________________________________________________________\n",
      "final_gender_code (InputLayer)  [(None, 1)]          0                                            \n",
      "__________________________________________________________________________________________________\n",
      "sparse_seq_emb_hist_cate_id (Em (None, 1, 8)         16000000    hist_cate_id[0][0]               \n",
      "__________________________________________________________________________________________________\n",
      "sparse_seq_emb_hist_adgroup_id  (None, 1, 8)         16000000    hist_adgroup_id[0][0]            \n",
      "__________________________________________________________________________________________________\n",
      "sparse_emb_userid (Embedding)   (None, 1, 8)         8494152     userid[0][0]                     \n",
      "__________________________________________________________________________________________________\n",
      "sparse_emb_final_gender_code (E (None, 1, 8)         24          final_gender_code[0][0]          \n",
      "__________________________________________________________________________________________________\n",
      "concat_7 (Concat)               (None, 1, 16)        0           sparse_emb_adgroup_id[0][0]      \n",
      "                                                                 sparse_emb_cate_id[0][0]         \n",
      "__________________________________________________________________________________________________\n",
      "concat_5 (Concat)               (None, 1, 16)        0           sparse_seq_emb_hist_cate_id[0][0]\n",
      "                                                                 sparse_seq_emb_hist_adgroup_id[0]\n",
      "__________________________________________________________________________________________________\n",
      "concat_6 (Concat)               (None, 1, 32)        0           sparse_emb_adgroup_id[1][0]      \n",
      "                                                                 sparse_emb_cate_id[1][0]         \n",
      "                                                                 sparse_emb_userid[0][0]          \n",
      "                                                                 sparse_emb_final_gender_code[0][0\n",
      "__________________________________________________________________________________________________\n",
      "attention_sequence_pooling_laye (None, 1, 16)        8841        concat_7[0][0]                   \n",
      "                                                                 concat_5[0][0]                   \n",
      "__________________________________________________________________________________________________\n",
      "concat_8 (Concat)               (None, 1, 48)        0           concat_6[0][0]                   \n",
      "                                                                 attention_sequence_pooling_layer_\n",
      "__________________________________________________________________________________________________\n",
      "flatten_3 (Flatten)             (None, 48)           0           concat_8[0][0]                   \n",
      "__________________________________________________________________________________________________\n",
      "price (InputLayer)              [(None, 1)]          0                                            \n",
      "__________________________________________________________________________________________________\n",
      "no_mask_2 (NoMask)              (None, 48)           0           flatten_3[0][0]                  \n",
      "__________________________________________________________________________________________________\n",
      "no_mask_3 (NoMask)              (None, 1)            0           price[0][0]                      \n",
      "__________________________________________________________________________________________________\n",
      "flatten_4 (Flatten)             (None, 48)           0           no_mask_2[0][0]                  \n",
      "__________________________________________________________________________________________________\n",
      "flatten_5 (Flatten)             (None, 1)            0           no_mask_3[0][0]                  \n",
      "__________________________________________________________________________________________________\n",
      "concat_9 (Concat)               (None, 49)           0           flatten_4[0][0]                  \n",
      "                                                                 flatten_5[0][0]                  \n",
      "__________________________________________________________________________________________________\n",
      "dnn_1 (DNN)                     (None, 80)           27200       concat_9[0][0]                   \n",
      "__________________________________________________________________________________________________\n",
      "dense_1 (Dense)                 (None, 1)            80          dnn_1[0][0]                      \n",
      "__________________________________________________________________________________________________\n",
      "prediction_layer_1 (PredictionL (None, 1)            1           dense_1[0][0]                    \n",
      "==================================================================================================\n",
      "Total params: 47,200,186\n",
      "Trainable params: 47,199,386\n",
      "Non-trainable params: 800\n",
      "__________________________________________________________________________________________________\n"
     ]
    }
   ],
   "source": [
    "model.summary()"
   ]
  },
  {
   "cell_type": "code",
   "execution_count": 42,
   "id": "b2dd2671",
   "metadata": {},
   "outputs": [
    {
     "ename": "ResourceExhaustedError",
     "evalue": "Graph execution error:\n\nDetected at node 'sparse_seq_emb_hist_cate_id/embeddings/Regularizer/Square' defined at (most recent call last):\n    File \"c:\\Users\\ASUS\\anaconda3\\envs\\UK1\\lib\\runpy.py\", line 197, in _run_module_as_main\n      return _run_code(code, main_globals, None,\n    File \"c:\\Users\\ASUS\\anaconda3\\envs\\UK1\\lib\\runpy.py\", line 87, in _run_code\n      exec(code, run_globals)\n    File \"c:\\Users\\ASUS\\anaconda3\\envs\\UK1\\lib\\site-packages\\ipykernel_launcher.py\", line 18, in <module>\n      app.launch_new_instance()\n    File \"c:\\Users\\ASUS\\anaconda3\\envs\\UK1\\lib\\site-packages\\traitlets\\config\\application.py\", line 1075, in launch_instance\n      app.start()\n    File \"c:\\Users\\ASUS\\anaconda3\\envs\\UK1\\lib\\site-packages\\ipykernel\\kernelapp.py\", line 739, in start\n      self.io_loop.start()\n    File \"c:\\Users\\ASUS\\anaconda3\\envs\\UK1\\lib\\site-packages\\tornado\\platform\\asyncio.py\", line 205, in start\n      self.asyncio_loop.run_forever()\n    File \"c:\\Users\\ASUS\\anaconda3\\envs\\UK1\\lib\\asyncio\\base_events.py\", line 601, in run_forever\n      self._run_once()\n    File \"c:\\Users\\ASUS\\anaconda3\\envs\\UK1\\lib\\asyncio\\base_events.py\", line 1905, in _run_once\n      handle._run()\n    File \"c:\\Users\\ASUS\\anaconda3\\envs\\UK1\\lib\\asyncio\\events.py\", line 80, in _run\n      self._context.run(self._callback, *self._args)\n    File \"c:\\Users\\ASUS\\anaconda3\\envs\\UK1\\lib\\site-packages\\ipykernel\\kernelbase.py\", line 545, in dispatch_queue\n      await self.process_one()\n    File \"c:\\Users\\ASUS\\anaconda3\\envs\\UK1\\lib\\site-packages\\ipykernel\\kernelbase.py\", line 534, in process_one\n      await dispatch(*args)\n    File \"c:\\Users\\ASUS\\anaconda3\\envs\\UK1\\lib\\site-packages\\ipykernel\\kernelbase.py\", line 437, in dispatch_shell\n      await result\n    File \"c:\\Users\\ASUS\\anaconda3\\envs\\UK1\\lib\\site-packages\\ipykernel\\ipkernel.py\", line 362, in execute_request\n      await super().execute_request(stream, ident, parent)\n    File \"c:\\Users\\ASUS\\anaconda3\\envs\\UK1\\lib\\site-packages\\ipykernel\\kernelbase.py\", line 778, in execute_request\n      reply_content = await reply_content\n    File \"c:\\Users\\ASUS\\anaconda3\\envs\\UK1\\lib\\site-packages\\ipykernel\\ipkernel.py\", line 449, in do_execute\n      res = shell.run_cell(\n    File \"c:\\Users\\ASUS\\anaconda3\\envs\\UK1\\lib\\site-packages\\ipykernel\\zmqshell.py\", line 549, in run_cell\n      return super().run_cell(*args, **kwargs)\n    File \"c:\\Users\\ASUS\\anaconda3\\envs\\UK1\\lib\\site-packages\\IPython\\core\\interactiveshell.py\", line 3006, in run_cell\n      result = self._run_cell(\n    File \"c:\\Users\\ASUS\\anaconda3\\envs\\UK1\\lib\\site-packages\\IPython\\core\\interactiveshell.py\", line 3061, in _run_cell\n      result = runner(coro)\n    File \"c:\\Users\\ASUS\\anaconda3\\envs\\UK1\\lib\\site-packages\\IPython\\core\\async_helpers.py\", line 129, in _pseudo_sync_runner\n      coro.send(None)\n    File \"c:\\Users\\ASUS\\anaconda3\\envs\\UK1\\lib\\site-packages\\IPython\\core\\interactiveshell.py\", line 3266, in run_cell_async\n      has_raised = await self.run_ast_nodes(code_ast.body, cell_name,\n    File \"c:\\Users\\ASUS\\anaconda3\\envs\\UK1\\lib\\site-packages\\IPython\\core\\interactiveshell.py\", line 3445, in run_ast_nodes\n      if await self.run_code(code, result, async_=asy):\n    File \"c:\\Users\\ASUS\\anaconda3\\envs\\UK1\\lib\\site-packages\\IPython\\core\\interactiveshell.py\", line 3505, in run_code\n      exec(code_obj, self.user_global_ns, self.user_ns)\n    File \"C:\\Users\\ASUS\\AppData\\Local\\Temp\\ipykernel_32024\\392697638.py\", line 2, in <module>\n      history = model.fit(train_model_input, train[target].values,batch_size=5024, epochs=1, verbose=1, validation_split=0.25)\n    File \"c:\\Users\\ASUS\\anaconda3\\envs\\UK1\\lib\\site-packages\\tensorflow\\python\\keras\\engine\\training.py\", line 1187, in fit\n      tmp_logs = self.train_function(iterator)\n    File \"c:\\Users\\ASUS\\anaconda3\\envs\\UK1\\lib\\site-packages\\tensorflow\\python\\keras\\engine\\training.py\", line 857, in train_function\n      return step_function(self, iterator)\n    File \"c:\\Users\\ASUS\\anaconda3\\envs\\UK1\\lib\\site-packages\\tensorflow\\python\\keras\\engine\\training.py\", line 847, in step_function\n      outputs = model.distribute_strategy.run(run_step, args=(data,))\n    File \"c:\\Users\\ASUS\\anaconda3\\envs\\UK1\\lib\\site-packages\\tensorflow\\python\\keras\\engine\\training.py\", line 840, in run_step\n      outputs = model.train_step(data)\n    File \"c:\\Users\\ASUS\\anaconda3\\envs\\UK1\\lib\\site-packages\\tensorflow\\python\\keras\\engine\\training.py\", line 799, in train_step\n      y, y_pred, sample_weight, regularization_losses=self.losses)\n    File \"c:\\Users\\ASUS\\anaconda3\\envs\\UK1\\lib\\site-packages\\tensorflow\\python\\keras\\engine\\base_layer.py\", line 1407, in losses\n      loss_tensor = regularizer()\n    File \"c:\\Users\\ASUS\\anaconda3\\envs\\UK1\\lib\\site-packages\\tensorflow\\python\\keras\\engine\\base_layer.py\", line 1483, in _tag_callable\n      loss = loss()\n    File \"c:\\Users\\ASUS\\anaconda3\\envs\\UK1\\lib\\site-packages\\tensorflow\\python\\keras\\engine\\base_layer.py\", line 2444, in _loss_for_variable\n      regularization = regularizer(v)\n    File \"c:\\Users\\ASUS\\anaconda3\\envs\\UK1\\lib\\site-packages\\tensorflow\\python\\keras\\regularizers.py\", line 316, in __call__\n      return self.l2 * math_ops.reduce_sum(math_ops.square(x))\nNode: 'sparse_seq_emb_hist_cate_id/embeddings/Regularizer/Square'\nfailed to allocate memory\n\t [[{{node sparse_seq_emb_hist_cate_id/embeddings/Regularizer/Square}}]]\nHint: If you want to see a list of allocated tensors when OOM happens, add report_tensor_allocations_upon_oom to RunOptions for current allocation info. This isn't available when running in Eager mode.\n [Op:__inference_train_function_8033]",
     "output_type": "error",
     "traceback": [
      "\u001b[1;31m---------------------------------------------------------------------------\u001b[0m",
      "\u001b[1;31mResourceExhaustedError\u001b[0m                    Traceback (most recent call last)",
      "Cell \u001b[1;32mIn[42], line 2\u001b[0m\n\u001b[0;32m      1\u001b[0m model\u001b[38;5;241m.\u001b[39mcompile(\u001b[38;5;124m\"\u001b[39m\u001b[38;5;124madam\u001b[39m\u001b[38;5;124m\"\u001b[39m, \u001b[38;5;124m\"\u001b[39m\u001b[38;5;124mbinary_crossentropy\u001b[39m\u001b[38;5;124m\"\u001b[39m,metrics\u001b[38;5;241m=\u001b[39m[\u001b[38;5;124m'\u001b[39m\u001b[38;5;124mbinary_crossentropy\u001b[39m\u001b[38;5;124m'\u001b[39m], )\n\u001b[1;32m----> 2\u001b[0m history \u001b[38;5;241m=\u001b[39m \u001b[43mmodel\u001b[49m\u001b[38;5;241;43m.\u001b[39;49m\u001b[43mfit\u001b[49m\u001b[43m(\u001b[49m\u001b[43mtrain_model_input\u001b[49m\u001b[43m,\u001b[49m\u001b[43m \u001b[49m\u001b[43mtrain\u001b[49m\u001b[43m[\u001b[49m\u001b[43mtarget\u001b[49m\u001b[43m]\u001b[49m\u001b[38;5;241;43m.\u001b[39;49m\u001b[43mvalues\u001b[49m\u001b[43m,\u001b[49m\u001b[43mbatch_size\u001b[49m\u001b[38;5;241;43m=\u001b[39;49m\u001b[38;5;241;43m5024\u001b[39;49m\u001b[43m,\u001b[49m\u001b[43m \u001b[49m\u001b[43mepochs\u001b[49m\u001b[38;5;241;43m=\u001b[39;49m\u001b[38;5;241;43m1\u001b[39;49m\u001b[43m,\u001b[49m\u001b[43m \u001b[49m\u001b[43mverbose\u001b[49m\u001b[38;5;241;43m=\u001b[39;49m\u001b[38;5;241;43m1\u001b[39;49m\u001b[43m,\u001b[49m\u001b[43m \u001b[49m\u001b[43mvalidation_split\u001b[49m\u001b[38;5;241;43m=\u001b[39;49m\u001b[38;5;241;43m0.25\u001b[39;49m\u001b[43m)\u001b[49m\n",
      "File \u001b[1;32mc:\\Users\\ASUS\\anaconda3\\envs\\UK1\\lib\\site-packages\\tensorflow\\python\\keras\\engine\\training.py:1187\u001b[0m, in \u001b[0;36mModel.fit\u001b[1;34m(self, x, y, batch_size, epochs, verbose, callbacks, validation_split, validation_data, shuffle, class_weight, sample_weight, initial_epoch, steps_per_epoch, validation_steps, validation_batch_size, validation_freq, max_queue_size, workers, use_multiprocessing)\u001b[0m\n\u001b[0;32m   1180\u001b[0m \u001b[38;5;28;01mwith\u001b[39;00m trace\u001b[38;5;241m.\u001b[39mTrace(\n\u001b[0;32m   1181\u001b[0m     \u001b[38;5;124m'\u001b[39m\u001b[38;5;124mtrain\u001b[39m\u001b[38;5;124m'\u001b[39m,\n\u001b[0;32m   1182\u001b[0m     epoch_num\u001b[38;5;241m=\u001b[39mepoch,\n\u001b[0;32m   1183\u001b[0m     step_num\u001b[38;5;241m=\u001b[39mstep,\n\u001b[0;32m   1184\u001b[0m     batch_size\u001b[38;5;241m=\u001b[39mbatch_size,\n\u001b[0;32m   1185\u001b[0m     _r\u001b[38;5;241m=\u001b[39m\u001b[38;5;241m1\u001b[39m):\n\u001b[0;32m   1186\u001b[0m   callbacks\u001b[38;5;241m.\u001b[39mon_train_batch_begin(step)\n\u001b[1;32m-> 1187\u001b[0m   tmp_logs \u001b[38;5;241m=\u001b[39m \u001b[38;5;28;43mself\u001b[39;49m\u001b[38;5;241;43m.\u001b[39;49m\u001b[43mtrain_function\u001b[49m\u001b[43m(\u001b[49m\u001b[43miterator\u001b[49m\u001b[43m)\u001b[49m\n\u001b[0;32m   1188\u001b[0m   \u001b[38;5;28;01mif\u001b[39;00m data_handler\u001b[38;5;241m.\u001b[39mshould_sync:\n\u001b[0;32m   1189\u001b[0m     context\u001b[38;5;241m.\u001b[39masync_wait()\n",
      "File \u001b[1;32mc:\\Users\\ASUS\\anaconda3\\envs\\UK1\\lib\\site-packages\\tensorflow\\python\\util\\traceback_utils.py:153\u001b[0m, in \u001b[0;36mfilter_traceback.<locals>.error_handler\u001b[1;34m(*args, **kwargs)\u001b[0m\n\u001b[0;32m    151\u001b[0m \u001b[38;5;28;01mexcept\u001b[39;00m \u001b[38;5;167;01mException\u001b[39;00m \u001b[38;5;28;01mas\u001b[39;00m e:\n\u001b[0;32m    152\u001b[0m   filtered_tb \u001b[38;5;241m=\u001b[39m _process_traceback_frames(e\u001b[38;5;241m.\u001b[39m__traceback__)\n\u001b[1;32m--> 153\u001b[0m   \u001b[38;5;28;01mraise\u001b[39;00m e\u001b[38;5;241m.\u001b[39mwith_traceback(filtered_tb) \u001b[38;5;28;01mfrom\u001b[39;00m \u001b[38;5;28;01mNone\u001b[39;00m\n\u001b[0;32m    154\u001b[0m \u001b[38;5;28;01mfinally\u001b[39;00m:\n\u001b[0;32m    155\u001b[0m   \u001b[38;5;28;01mdel\u001b[39;00m filtered_tb\n",
      "File \u001b[1;32mc:\\Users\\ASUS\\anaconda3\\envs\\UK1\\lib\\site-packages\\tensorflow\\python\\eager\\execute.py:54\u001b[0m, in \u001b[0;36mquick_execute\u001b[1;34m(op_name, num_outputs, inputs, attrs, ctx, name)\u001b[0m\n\u001b[0;32m     52\u001b[0m \u001b[38;5;28;01mtry\u001b[39;00m:\n\u001b[0;32m     53\u001b[0m   ctx\u001b[38;5;241m.\u001b[39mensure_initialized()\n\u001b[1;32m---> 54\u001b[0m   tensors \u001b[38;5;241m=\u001b[39m pywrap_tfe\u001b[38;5;241m.\u001b[39mTFE_Py_Execute(ctx\u001b[38;5;241m.\u001b[39m_handle, device_name, op_name,\n\u001b[0;32m     55\u001b[0m                                       inputs, attrs, num_outputs)\n\u001b[0;32m     56\u001b[0m \u001b[38;5;28;01mexcept\u001b[39;00m core\u001b[38;5;241m.\u001b[39m_NotOkStatusException \u001b[38;5;28;01mas\u001b[39;00m e:\n\u001b[0;32m     57\u001b[0m   \u001b[38;5;28;01mif\u001b[39;00m name \u001b[38;5;129;01mis\u001b[39;00m \u001b[38;5;129;01mnot\u001b[39;00m \u001b[38;5;28;01mNone\u001b[39;00m:\n",
      "\u001b[1;31mResourceExhaustedError\u001b[0m: Graph execution error:\n\nDetected at node 'sparse_seq_emb_hist_cate_id/embeddings/Regularizer/Square' defined at (most recent call last):\n    File \"c:\\Users\\ASUS\\anaconda3\\envs\\UK1\\lib\\runpy.py\", line 197, in _run_module_as_main\n      return _run_code(code, main_globals, None,\n    File \"c:\\Users\\ASUS\\anaconda3\\envs\\UK1\\lib\\runpy.py\", line 87, in _run_code\n      exec(code, run_globals)\n    File \"c:\\Users\\ASUS\\anaconda3\\envs\\UK1\\lib\\site-packages\\ipykernel_launcher.py\", line 18, in <module>\n      app.launch_new_instance()\n    File \"c:\\Users\\ASUS\\anaconda3\\envs\\UK1\\lib\\site-packages\\traitlets\\config\\application.py\", line 1075, in launch_instance\n      app.start()\n    File \"c:\\Users\\ASUS\\anaconda3\\envs\\UK1\\lib\\site-packages\\ipykernel\\kernelapp.py\", line 739, in start\n      self.io_loop.start()\n    File \"c:\\Users\\ASUS\\anaconda3\\envs\\UK1\\lib\\site-packages\\tornado\\platform\\asyncio.py\", line 205, in start\n      self.asyncio_loop.run_forever()\n    File \"c:\\Users\\ASUS\\anaconda3\\envs\\UK1\\lib\\asyncio\\base_events.py\", line 601, in run_forever\n      self._run_once()\n    File \"c:\\Users\\ASUS\\anaconda3\\envs\\UK1\\lib\\asyncio\\base_events.py\", line 1905, in _run_once\n      handle._run()\n    File \"c:\\Users\\ASUS\\anaconda3\\envs\\UK1\\lib\\asyncio\\events.py\", line 80, in _run\n      self._context.run(self._callback, *self._args)\n    File \"c:\\Users\\ASUS\\anaconda3\\envs\\UK1\\lib\\site-packages\\ipykernel\\kernelbase.py\", line 545, in dispatch_queue\n      await self.process_one()\n    File \"c:\\Users\\ASUS\\anaconda3\\envs\\UK1\\lib\\site-packages\\ipykernel\\kernelbase.py\", line 534, in process_one\n      await dispatch(*args)\n    File \"c:\\Users\\ASUS\\anaconda3\\envs\\UK1\\lib\\site-packages\\ipykernel\\kernelbase.py\", line 437, in dispatch_shell\n      await result\n    File \"c:\\Users\\ASUS\\anaconda3\\envs\\UK1\\lib\\site-packages\\ipykernel\\ipkernel.py\", line 362, in execute_request\n      await super().execute_request(stream, ident, parent)\n    File \"c:\\Users\\ASUS\\anaconda3\\envs\\UK1\\lib\\site-packages\\ipykernel\\kernelbase.py\", line 778, in execute_request\n      reply_content = await reply_content\n    File \"c:\\Users\\ASUS\\anaconda3\\envs\\UK1\\lib\\site-packages\\ipykernel\\ipkernel.py\", line 449, in do_execute\n      res = shell.run_cell(\n    File \"c:\\Users\\ASUS\\anaconda3\\envs\\UK1\\lib\\site-packages\\ipykernel\\zmqshell.py\", line 549, in run_cell\n      return super().run_cell(*args, **kwargs)\n    File \"c:\\Users\\ASUS\\anaconda3\\envs\\UK1\\lib\\site-packages\\IPython\\core\\interactiveshell.py\", line 3006, in run_cell\n      result = self._run_cell(\n    File \"c:\\Users\\ASUS\\anaconda3\\envs\\UK1\\lib\\site-packages\\IPython\\core\\interactiveshell.py\", line 3061, in _run_cell\n      result = runner(coro)\n    File \"c:\\Users\\ASUS\\anaconda3\\envs\\UK1\\lib\\site-packages\\IPython\\core\\async_helpers.py\", line 129, in _pseudo_sync_runner\n      coro.send(None)\n    File \"c:\\Users\\ASUS\\anaconda3\\envs\\UK1\\lib\\site-packages\\IPython\\core\\interactiveshell.py\", line 3266, in run_cell_async\n      has_raised = await self.run_ast_nodes(code_ast.body, cell_name,\n    File \"c:\\Users\\ASUS\\anaconda3\\envs\\UK1\\lib\\site-packages\\IPython\\core\\interactiveshell.py\", line 3445, in run_ast_nodes\n      if await self.run_code(code, result, async_=asy):\n    File \"c:\\Users\\ASUS\\anaconda3\\envs\\UK1\\lib\\site-packages\\IPython\\core\\interactiveshell.py\", line 3505, in run_code\n      exec(code_obj, self.user_global_ns, self.user_ns)\n    File \"C:\\Users\\ASUS\\AppData\\Local\\Temp\\ipykernel_32024\\392697638.py\", line 2, in <module>\n      history = model.fit(train_model_input, train[target].values,batch_size=5024, epochs=1, verbose=1, validation_split=0.25)\n    File \"c:\\Users\\ASUS\\anaconda3\\envs\\UK1\\lib\\site-packages\\tensorflow\\python\\keras\\engine\\training.py\", line 1187, in fit\n      tmp_logs = self.train_function(iterator)\n    File \"c:\\Users\\ASUS\\anaconda3\\envs\\UK1\\lib\\site-packages\\tensorflow\\python\\keras\\engine\\training.py\", line 857, in train_function\n      return step_function(self, iterator)\n    File \"c:\\Users\\ASUS\\anaconda3\\envs\\UK1\\lib\\site-packages\\tensorflow\\python\\keras\\engine\\training.py\", line 847, in step_function\n      outputs = model.distribute_strategy.run(run_step, args=(data,))\n    File \"c:\\Users\\ASUS\\anaconda3\\envs\\UK1\\lib\\site-packages\\tensorflow\\python\\keras\\engine\\training.py\", line 840, in run_step\n      outputs = model.train_step(data)\n    File \"c:\\Users\\ASUS\\anaconda3\\envs\\UK1\\lib\\site-packages\\tensorflow\\python\\keras\\engine\\training.py\", line 799, in train_step\n      y, y_pred, sample_weight, regularization_losses=self.losses)\n    File \"c:\\Users\\ASUS\\anaconda3\\envs\\UK1\\lib\\site-packages\\tensorflow\\python\\keras\\engine\\base_layer.py\", line 1407, in losses\n      loss_tensor = regularizer()\n    File \"c:\\Users\\ASUS\\anaconda3\\envs\\UK1\\lib\\site-packages\\tensorflow\\python\\keras\\engine\\base_layer.py\", line 1483, in _tag_callable\n      loss = loss()\n    File \"c:\\Users\\ASUS\\anaconda3\\envs\\UK1\\lib\\site-packages\\tensorflow\\python\\keras\\engine\\base_layer.py\", line 2444, in _loss_for_variable\n      regularization = regularizer(v)\n    File \"c:\\Users\\ASUS\\anaconda3\\envs\\UK1\\lib\\site-packages\\tensorflow\\python\\keras\\regularizers.py\", line 316, in __call__\n      return self.l2 * math_ops.reduce_sum(math_ops.square(x))\nNode: 'sparse_seq_emb_hist_cate_id/embeddings/Regularizer/Square'\nfailed to allocate memory\n\t [[{{node sparse_seq_emb_hist_cate_id/embeddings/Regularizer/Square}}]]\nHint: If you want to see a list of allocated tensors when OOM happens, add report_tensor_allocations_upon_oom to RunOptions for current allocation info. This isn't available when running in Eager mode.\n [Op:__inference_train_function_8033]"
     ]
    }
   ],
   "source": [
    "model.compile(\"adam\", \"binary_crossentropy\",metrics=['binary_crossentropy'], )\n",
    "history = model.fit(train_model_input, train[target].values,batch_size=5024, epochs=1, verbose=1, validation_split=0.25)"
   ]
  },
  {
   "cell_type": "code",
   "execution_count": 28,
   "id": "b6e8e589",
   "metadata": {},
   "outputs": [],
   "source": [
    "# pred_ans = model.predict(test_model_input, batch_size=256)\n",
    "# print(\"test LogLoss\", round(log_loss(test[target].values, pred_ans), 2))\n",
    "# print(\"test AUC\", round(roc_auc_score(test[target].values, pred_ans), 2))\n"
   ]
  },
  {
   "cell_type": "code",
   "execution_count": null,
   "id": "8fb9d7e3",
   "metadata": {},
   "outputs": [],
   "source": []
  }
 ],
 "metadata": {
  "kernelspec": {
   "display_name": "UK1",
   "language": "python",
   "name": "python3"
  },
  "language_info": {
   "codemirror_mode": {
    "name": "ipython",
    "version": 3
   },
   "file_extension": ".py",
   "mimetype": "text/x-python",
   "name": "python",
   "nbconvert_exporter": "python",
   "pygments_lexer": "ipython3",
   "version": "3.9.20"
  }
 },
 "nbformat": 4,
 "nbformat_minor": 5
}
