{
 "cells": [
  {
   "cell_type": "markdown",
   "id": "d54515bd",
   "metadata": {},
   "source": [
    "##### 📌先说UserCF\n",
    "步骤：对于某一个用户a，根据`u2u_sim`矩阵找到和用户a相似的前K个用户，将k个用户的点击历史作为用户a的召回结果【`rank[item1] += u2u_sim_score`】。根据召回的每个物品的`u2u_sim_score`排序【`sorted(rank,key = lambda x : x[1])`】，然后取前N个即可。\n",
    "- 所以我们需要获得**用户相似性矩阵**，怎么获得呢？\n",
    "    - 用户共现\n",
    "    - 余弦相似度\n",
    "    \n",
    "    解释：【用户共现】是指计算和用户A点击过相同物品的用户有哪些；当用户A和用户B都点击过item1，那么`co_metrix['A']['B'] += 1`;共现矩阵的形式是`{'A'：{'B':1,'C':4,'D':3}}`;【余弦相似度】是为了解决活跃用户的问题；如果用户B过度活跃，点击了很多商品，那么我们需要削弱它的影响。"
   ]
  },
  {
   "cell_type": "code",
   "execution_count": 20,
   "id": "4757ab6e",
   "metadata": {},
   "outputs": [
    {
     "name": "stdout",
     "output_type": "stream",
     "text": [
      "\n",
      "Recommendations for user A:\n",
      "item3DA: 0.4000\n",
      "item414: 0.4000\n",
      "item54: 0.4000\n",
      "item13: 0.4000\n",
      "item23: 0.4000\n"
     ]
    }
   ],
   "source": [
    "from collections import defaultdict\n",
    "import math\n",
    "\n",
    "def u2u_sim(user_items):\n",
    "    # 用户行为倒排：每个物品有哪些用户点击过\n",
    "    items_user = defaultdict(set)\n",
    "    for user,items in user_items.items():\n",
    "        for item in items:\n",
    "            items_user[item].add(user)\n",
    "    \n",
    "    # 计算共现\n",
    "    co_matrix = defaultdict(lambda:defaultdict(int))\n",
    "    count = defaultdict(int)\n",
    "    for item,user in items_user.items():\n",
    "        for u in user:\n",
    "            count[u] += 1\n",
    "            for v in user:\n",
    "                if v==u:\n",
    "                    continue\n",
    "                else:\n",
    "                    co_matrix[u][v] += 1\n",
    "    \n",
    "    u2u_sim_matrix = defaultdict(dict)\n",
    "\n",
    "    for u,related_user in co_matrix.items():\n",
    "        for v,score in related_user.items():\n",
    "            sim = score/math.sqrt(count[u]*count[v])\n",
    "            u2u_sim_matrix[u][v] = sim\n",
    "            \n",
    "    return u2u_sim_matrix\n",
    "\n",
    "\n",
    "def recommend(user,user_items,k=2,N=5):\n",
    "    u2u_sim_matrix = u2u_sim(user_items)\n",
    "    user_click_items = user_items[user]\n",
    "    \n",
    "    rank = defaultdict(float)\n",
    "    for user,score in sorted(u2u_sim_matrix[user].items(),key=lambda x:x[1],reverse=True)[:k]:\n",
    "        for item in user_items[user]:\n",
    "            if item not in user_click_items:\n",
    "                rank[item] += (score)\n",
    "            \n",
    "    return sorted(rank.items(),key= lambda x:x[1],reverse=True)[:N]\n",
    "    \n",
    "if __name__ == '__main__':\n",
    "    user_items = {\n",
    "    'A':['item1','item2','item3','item4','item5'],\n",
    "    'B':['item13','item2','item23','item4','item50'],\n",
    "    'C':['item19','item12','item3D','item41','item85'],\n",
    "    'D':['item15','item6Q','item23','item47','item85'],\n",
    "    'F':['item1','item2','item3DA','item414','item54'],\n",
    "    'E':['item19','item12','item3D','item45','item50'],\n",
    "    'Q':['item19']\n",
    "}\n",
    "    result = recommend(\"A\",user_items)\n",
    "    print(\"\\nRecommendations for user A:\")\n",
    "    for item, score in result:\n",
    "        print(f\"{item}: {score:.4f}\")"
   ]
  },
  {
   "cell_type": "markdown",
   "id": "924a6332",
   "metadata": {},
   "source": [
    "##### 📌ItemCF\n",
    "步骤：对于某个用户a所点击过的商品{'item1','item2','item3'}，根据`i2i_sim`矩阵找到和每个物品最相似的几个商品。\n",
    "- 所以我们需要获得**物品相似性矩阵**，怎么获得呢？\n",
    "    - 物品共现\n",
    "    - 余弦相似度"
   ]
  },
  {
   "cell_type": "code",
   "execution_count": 18,
   "id": "3383adf1",
   "metadata": {},
   "outputs": [
    {
     "name": "stdout",
     "output_type": "stream",
     "text": [
      "\n",
      "Recommendations for user A:\n",
      "item3DA: 1.2845\n",
      "item414: 0.7071\n",
      "item13: 0.7071\n"
     ]
    }
   ],
   "source": [
    "#ItemCF\n",
    "from collections import defaultdict\n",
    "import math\n",
    "\n",
    "def calculate_item_similarity(user_item):\n",
    "    # 用户行为倒排：每个物品有哪些用户点击过\n",
    "    item_users = defaultdict(set)\n",
    "    for user, items in user_item.items():\n",
    "        for item in items:\n",
    "            item_users[item].add(user)\n",
    "\n",
    "    # 物品共现矩阵\n",
    "    co_matrix = defaultdict(lambda: defaultdict(int))\n",
    "    item_count = defaultdict(int)\n",
    "\n",
    "    for item, users in item_users.items():\n",
    "        item_count[item] = len(users)\n",
    "        for u in users:\n",
    "            for related_item in user_item[u]:\n",
    "                if related_item == item:\n",
    "                    continue\n",
    "                co_matrix[item][related_item] += 1\n",
    "\n",
    "    # 计算相似度矩阵\n",
    "    item_similarity = defaultdict(dict)\n",
    "    for item, related_items in co_matrix.items():\n",
    "        for other_item, co_count in related_items.items():\n",
    "            sim = co_count / math.sqrt(item_count[item] * item_count[other_item])\n",
    "            item_similarity[item][other_item] = sim\n",
    "\n",
    "    return item_similarity\n",
    "\n",
    "def recommend(user, user_item, item_similarity, K=3, N=5):\n",
    "    rank = defaultdict(float)\n",
    "    interacted_items = set(user_item.get(user, []))\n",
    "\n",
    "    for item in interacted_items:\n",
    "        for related_item, sim in sorted(item_similarity[item].items(), key=lambda x: x[1], reverse=True)[:K]:\n",
    "            if related_item in interacted_items:\n",
    "                continue\n",
    "            rank[related_item] += sim\n",
    "\n",
    "    return sorted(rank.items(), key=lambda x: x[1], reverse=True)[:N]\n",
    "\n",
    "if __name__ == '__main__':\n",
    "    user_items = {\n",
    "        'A':['item1','item2','item3','item4','item5'],\n",
    "        'B':['item13','item2','item23','item4','item50'],\n",
    "        'C':['item19','item12','item3D','item41','item85'],\n",
    "        'D':['item15','item6Q','item23','item47','item85'],\n",
    "        'F':['item1','item2','item3DA','item414','item54'],\n",
    "        'E':['item19','item12','item3D','item45','item50'],\n",
    "        'Q':['item19']\n",
    "    }\n",
    "\n",
    "    item_similarity = calculate_item_similarity(user_items)\n",
    "\n",
    "    print(\"\\nRecommendations for user A:\")\n",
    "    recs = recommend('A', user_items, item_similarity)\n",
    "    for item, score in recs:\n",
    "        print(f\"{item}: {score:.4f}\")\n"
   ]
  },
  {
   "cell_type": "markdown",
   "id": "71bd5ddf",
   "metadata": {},
   "source": [
    "##### 📌AUC手撕"
   ]
  },
  {
   "cell_type": "markdown",
   "id": "c8862c91",
   "metadata": {},
   "source": [
    "![image.png](微信图片_20250525001232.png)"
   ]
  },
  {
   "cell_type": "code",
   "execution_count": 6,
   "id": "1e9fe268",
   "metadata": {},
   "outputs": [],
   "source": [
    "def auc(labels,scores):\n",
    "    samples = list(zip(labels,scores))\n",
    "    rank = [(label,score) for label,score in sorted(samples,key=lambda x:x[1])]\n",
    "    idx = [i+1 for i in range(len(rank)) if rank[i][0] == 1]\n",
    "    \n",
    "    #获得正、负样本个数\n",
    "    pos_num = sum(labels)\n",
    "    neg_num = len(labels) - sum(labels)\n",
    "    \n",
    "    return (sum(idx) - (pos_num*(pos_num+1))/2) / (pos_num*neg_num)\n"
   ]
  },
  {
   "cell_type": "code",
   "execution_count": 7,
   "id": "2667e8e0",
   "metadata": {},
   "outputs": [
    {
     "data": {
      "text/plain": [
       "0.75"
      ]
     },
     "execution_count": 7,
     "metadata": {},
     "output_type": "execute_result"
    }
   ],
   "source": [
    "import numpy as np\n",
    "y_true = np.array([0,0,1,1])\n",
    "y_scores = np.array([0.1,0.4,0.35,0.8])\n",
    "result = auc(y_true,y_scores)\n",
    "result"
   ]
  },
  {
   "cell_type": "code",
   "execution_count": null,
   "id": "ef548370",
   "metadata": {},
   "outputs": [],
   "source": []
  }
 ],
 "metadata": {
  "kernelspec": {
   "display_name": "UK1",
   "language": "python",
   "name": "python3"
  },
  "language_info": {
   "codemirror_mode": {
    "name": "ipython",
    "version": 3
   },
   "file_extension": ".py",
   "mimetype": "text/x-python",
   "name": "python",
   "nbconvert_exporter": "python",
   "pygments_lexer": "ipython3",
   "version": "3.9.20"
  }
 },
 "nbformat": 4,
 "nbformat_minor": 5
}
